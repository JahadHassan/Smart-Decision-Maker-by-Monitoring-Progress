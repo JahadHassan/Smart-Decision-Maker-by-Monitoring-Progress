{
 "cells": [
  {
   "cell_type": "markdown",
   "id": "76d2411d",
   "metadata": {
    "papermill": {
     "duration": 0.017628,
     "end_time": "2024-12-11T12:03:16.192296",
     "exception": false,
     "start_time": "2024-12-11T12:03:16.174668",
     "status": "completed"
    },
    "tags": []
   },
   "source": [
    "<div style=\"background-color:#00008B; padding: 20px; border-radius: 255px; font-weight: bold; border: 3px solid #00008B; text-align: center;\">\n",
    "    <h1 style=\"font-size: 30px; color: white; margin: 0;\">Smart Decision Maker by Monitoring Progress of Student's Study</h1>\n",
    "</div>"
   ]
  },
  {
   "cell_type": "code",
   "execution_count": 1,
   "id": "c5b75159",
   "metadata": {
    "_cell_guid": "b1076dfc-b9ad-4769-8c92-a6c4dae69d19",
    "_uuid": "8f2839f25d086af736a60e9eeb907d3b93b6e0e5",
    "execution": {
     "iopub.execute_input": "2024-12-11T12:03:16.231072Z",
     "iopub.status.busy": "2024-12-11T12:03:16.230586Z",
     "iopub.status.idle": "2024-12-11T12:03:16.254231Z",
     "shell.execute_reply": "2024-12-11T12:03:16.252775Z"
    },
    "papermill": {
     "duration": 0.049019,
     "end_time": "2024-12-11T12:03:16.256836",
     "exception": false,
     "start_time": "2024-12-11T12:03:16.207817",
     "status": "completed"
    },
    "tags": []
   },
   "outputs": [
    {
     "name": "stdout",
     "output_type": "stream",
     "text": [
      "/kaggle/input/student-performance-bd/bd_students_per.csv\n"
     ]
    }
   ],
   "source": [
    "import os\n",
    "for dirname, _, filenames in os.walk('/kaggle/input'):\n",
    "    for filename in filenames:\n",
    "        print(os.path.join(dirname, filename))"
   ]
  },
  {
   "cell_type": "markdown",
   "id": "8e66374d",
   "metadata": {
    "papermill": {
     "duration": 0.02052,
     "end_time": "2024-12-11T12:03:16.297016",
     "exception": false,
     "start_time": "2024-12-11T12:03:16.276496",
     "status": "completed"
    },
    "tags": []
   },
   "source": [
    "<div style=\"background-color:#00008B; padding: 20px; border-radius: 255px; font-weight: bold; border: 3px solid #00008B; text-align: center;\">\n",
    "    <h1 style=\"font-size: 30px; color: white; margin: 0;\"> 1 | Import Libraries</h1>\n",
    "</div>\n"
   ]
  },
  {
   "cell_type": "code",
   "execution_count": 2,
   "id": "2c688a73",
   "metadata": {
    "execution": {
     "iopub.execute_input": "2024-12-11T12:03:16.330247Z",
     "iopub.status.busy": "2024-12-11T12:03:16.329872Z",
     "iopub.status.idle": "2024-12-11T12:03:20.501370Z",
     "shell.execute_reply": "2024-12-11T12:03:20.500026Z"
    },
    "papermill": {
     "duration": 4.19042,
     "end_time": "2024-12-11T12:03:20.504013",
     "exception": false,
     "start_time": "2024-12-11T12:03:16.313593",
     "status": "completed"
    },
    "tags": []
   },
   "outputs": [],
   "source": [
    "import pandas as pd \n",
    "import numpy as np\n",
    "import seaborn as sns\n",
    "import matplotlib.pyplot as plt\n",
    "from sklearn.preprocessing import LabelEncoder\n",
    "from sklearn.model_selection import train_test_split\n",
    "from sklearn.tree import DecisionTreeClassifier\n",
    "from sklearn.ensemble import RandomForestClassifier\n",
    "from sklearn.neighbors import KNeighborsClassifier\n",
    "from sklearn.svm import SVC\n",
    "from xgboost import XGBClassifier\n",
    "from sklearn.ensemble import VotingClassifier\n",
    "from sklearn.metrics import (\n",
    "    classification_report,\n",
    "    confusion_matrix,\n",
    "    accuracy_score,\n",
    "    f1_score,\n",
    "    precision_score,\n",
    "    recall_score,\n",
    "    mean_absolute_error,\n",
    "    mean_squared_error\n",
    ")"
   ]
  },
  {
   "cell_type": "markdown",
   "id": "df3203fb",
   "metadata": {
    "papermill": {
     "duration": 0.016213,
     "end_time": "2024-12-11T12:03:20.535629",
     "exception": false,
     "start_time": "2024-12-11T12:03:20.519416",
     "status": "completed"
    },
    "tags": []
   },
   "source": [
    "<div style=\"background-color:#00008B; padding: 20px; border-radius: 255px; font-weight: bold; border: 3px solid #00008B; text-align: center;\">\n",
    "    <h1 style=\"font-size: 30px; color: white; margin: 0;\">2 | Download Dataset</h1>\n",
    "</div>\n",
    "\n",
    "\r\n"
   ]
  },
  {
   "cell_type": "code",
   "execution_count": 3,
   "id": "f9a3583d",
   "metadata": {
    "execution": {
     "iopub.execute_input": "2024-12-11T12:03:20.567780Z",
     "iopub.status.busy": "2024-12-11T12:03:20.567176Z",
     "iopub.status.idle": "2024-12-11T12:03:20.664456Z",
     "shell.execute_reply": "2024-12-11T12:03:20.663420Z"
    },
    "papermill": {
     "duration": 0.1162,
     "end_time": "2024-12-11T12:03:20.666928",
     "exception": false,
     "start_time": "2024-12-11T12:03:20.550728",
     "status": "completed"
    },
    "tags": []
   },
   "outputs": [
    {
     "data": {
      "text/html": [
       "<div>\n",
       "<style scoped>\n",
       "    .dataframe tbody tr th:only-of-type {\n",
       "        vertical-align: middle;\n",
       "    }\n",
       "\n",
       "    .dataframe tbody tr th {\n",
       "        vertical-align: top;\n",
       "    }\n",
       "\n",
       "    .dataframe thead th {\n",
       "        text-align: right;\n",
       "    }\n",
       "</style>\n",
       "<table border=\"1\" class=\"dataframe\">\n",
       "  <thead>\n",
       "    <tr style=\"text-align: right;\">\n",
       "      <th></th>\n",
       "      <th>id</th>\n",
       "      <th>full_name</th>\n",
       "      <th>age</th>\n",
       "      <th>gender</th>\n",
       "      <th>location</th>\n",
       "      <th>family_size</th>\n",
       "      <th>mother_education</th>\n",
       "      <th>father_education</th>\n",
       "      <th>mother_job</th>\n",
       "      <th>father_job</th>\n",
       "      <th>...</th>\n",
       "      <th>tutoring</th>\n",
       "      <th>school_type</th>\n",
       "      <th>attendance</th>\n",
       "      <th>extra_curricular_activities</th>\n",
       "      <th>english</th>\n",
       "      <th>math</th>\n",
       "      <th>science</th>\n",
       "      <th>social_science</th>\n",
       "      <th>art_culture</th>\n",
       "      <th>stu_group</th>\n",
       "    </tr>\n",
       "  </thead>\n",
       "  <tbody>\n",
       "    <tr>\n",
       "      <th>0</th>\n",
       "      <td>2</td>\n",
       "      <td>Avi Biswas</td>\n",
       "      <td>16</td>\n",
       "      <td>Male</td>\n",
       "      <td>Urban</td>\n",
       "      <td>6</td>\n",
       "      <td>SSC</td>\n",
       "      <td>HSC</td>\n",
       "      <td>No</td>\n",
       "      <td>No</td>\n",
       "      <td>...</td>\n",
       "      <td>Yes</td>\n",
       "      <td>Private</td>\n",
       "      <td>95</td>\n",
       "      <td>Yes</td>\n",
       "      <td>95</td>\n",
       "      <td>98</td>\n",
       "      <td>92</td>\n",
       "      <td>94</td>\n",
       "      <td>98</td>\n",
       "      <td>Science</td>\n",
       "    </tr>\n",
       "    <tr>\n",
       "      <th>1</th>\n",
       "      <td>3</td>\n",
       "      <td>Taslima Sultana</td>\n",
       "      <td>18</td>\n",
       "      <td>Female</td>\n",
       "      <td>Rural</td>\n",
       "      <td>6</td>\n",
       "      <td>SSC</td>\n",
       "      <td>HSC</td>\n",
       "      <td>No</td>\n",
       "      <td>Yes</td>\n",
       "      <td>...</td>\n",
       "      <td>No</td>\n",
       "      <td>Semi_Govt</td>\n",
       "      <td>92</td>\n",
       "      <td>No</td>\n",
       "      <td>65</td>\n",
       "      <td>71</td>\n",
       "      <td>40</td>\n",
       "      <td>78</td>\n",
       "      <td>80</td>\n",
       "      <td>Commerce</td>\n",
       "    </tr>\n",
       "    <tr>\n",
       "      <th>2</th>\n",
       "      <td>4</td>\n",
       "      <td>Md Adilur Rahman</td>\n",
       "      <td>15</td>\n",
       "      <td>Male</td>\n",
       "      <td>Rural</td>\n",
       "      <td>4</td>\n",
       "      <td>SSC</td>\n",
       "      <td>SSC</td>\n",
       "      <td>Yes</td>\n",
       "      <td>Yes</td>\n",
       "      <td>...</td>\n",
       "      <td>Yes</td>\n",
       "      <td>Govt</td>\n",
       "      <td>81</td>\n",
       "      <td>Yes</td>\n",
       "      <td>64</td>\n",
       "      <td>78</td>\n",
       "      <td>58</td>\n",
       "      <td>86</td>\n",
       "      <td>74</td>\n",
       "      <td>Commerce</td>\n",
       "    </tr>\n",
       "    <tr>\n",
       "      <th>3</th>\n",
       "      <td>5</td>\n",
       "      <td>Saleh Ahmed</td>\n",
       "      <td>16</td>\n",
       "      <td>Male</td>\n",
       "      <td>Rural</td>\n",
       "      <td>6</td>\n",
       "      <td>SSC</td>\n",
       "      <td>SSC</td>\n",
       "      <td>Yes</td>\n",
       "      <td>Yes</td>\n",
       "      <td>...</td>\n",
       "      <td>Yes</td>\n",
       "      <td>Private</td>\n",
       "      <td>90</td>\n",
       "      <td>Yes</td>\n",
       "      <td>84</td>\n",
       "      <td>90</td>\n",
       "      <td>85</td>\n",
       "      <td>86</td>\n",
       "      <td>88</td>\n",
       "      <td>Science</td>\n",
       "    </tr>\n",
       "    <tr>\n",
       "      <th>4</th>\n",
       "      <td>6</td>\n",
       "      <td>Din Islam</td>\n",
       "      <td>17</td>\n",
       "      <td>Male</td>\n",
       "      <td>Urban</td>\n",
       "      <td>5</td>\n",
       "      <td>Honors</td>\n",
       "      <td>Masters</td>\n",
       "      <td>No</td>\n",
       "      <td>Yes</td>\n",
       "      <td>...</td>\n",
       "      <td>Yes</td>\n",
       "      <td>Semi_Govt</td>\n",
       "      <td>75</td>\n",
       "      <td>Yes</td>\n",
       "      <td>54</td>\n",
       "      <td>70</td>\n",
       "      <td>45</td>\n",
       "      <td>79</td>\n",
       "      <td>76</td>\n",
       "      <td>Commerce</td>\n",
       "    </tr>\n",
       "  </tbody>\n",
       "</table>\n",
       "<p>5 rows × 24 columns</p>\n",
       "</div>"
      ],
      "text/plain": [
       "   id         full_name  age  gender location  family_size mother_education  \\\n",
       "0   2        Avi Biswas   16    Male    Urban            6              SSC   \n",
       "1   3   Taslima Sultana   18  Female    Rural            6              SSC   \n",
       "2   4  Md Adilur Rahman   15    Male    Rural            4              SSC   \n",
       "3   5       Saleh Ahmed   16    Male    Rural            6              SSC   \n",
       "4   6         Din Islam   17    Male    Urban            5           Honors   \n",
       "\n",
       "  father_education mother_job father_job  ... tutoring school_type attendance  \\\n",
       "0              HSC         No         No  ...      Yes     Private         95   \n",
       "1              HSC         No        Yes  ...       No   Semi_Govt         92   \n",
       "2              SSC        Yes        Yes  ...      Yes        Govt         81   \n",
       "3              SSC        Yes        Yes  ...      Yes     Private         90   \n",
       "4          Masters         No        Yes  ...      Yes   Semi_Govt         75   \n",
       "\n",
       "   extra_curricular_activities english math  science social_science  \\\n",
       "0                          Yes      95   98       92             94   \n",
       "1                           No      65   71       40             78   \n",
       "2                          Yes      64   78       58             86   \n",
       "3                          Yes      84   90       85             86   \n",
       "4                          Yes      54   70       45             79   \n",
       "\n",
       "   art_culture  stu_group  \n",
       "0           98    Science  \n",
       "1           80   Commerce  \n",
       "2           74   Commerce  \n",
       "3           88    Science  \n",
       "4           76   Commerce  \n",
       "\n",
       "[5 rows x 24 columns]"
      ]
     },
     "execution_count": 3,
     "metadata": {},
     "output_type": "execute_result"
    }
   ],
   "source": [
    "data = pd.read_csv('/kaggle/input/student-performance-bd/bd_students_per.csv')\n",
    "data.head()"
   ]
  },
  {
   "cell_type": "markdown",
   "id": "7c2c090e",
   "metadata": {
    "papermill": {
     "duration": 0.014968,
     "end_time": "2024-12-11T12:03:20.697925",
     "exception": false,
     "start_time": "2024-12-11T12:03:20.682957",
     "status": "completed"
    },
    "tags": []
   },
   "source": [
    "<div style=\"background-color:#00008B; padding: 20px; border-radius: 255px; font-weight: bold; border: 3px solid #00008B; text-align: center;\">\n",
    "    <h1 style=\"font-size: 30px; color: white; margin: 0;\">3 | Inspecting and Cleaning Dataframe Structure</h1>\n",
    "</div>\n"
   ]
  },
  {
   "cell_type": "code",
   "execution_count": 4,
   "id": "c32c0631",
   "metadata": {
    "execution": {
     "iopub.execute_input": "2024-12-11T12:03:20.730712Z",
     "iopub.status.busy": "2024-12-11T12:03:20.730288Z",
     "iopub.status.idle": "2024-12-11T12:03:20.744809Z",
     "shell.execute_reply": "2024-12-11T12:03:20.743758Z"
    },
    "papermill": {
     "duration": 0.033579,
     "end_time": "2024-12-11T12:03:20.747179",
     "exception": false,
     "start_time": "2024-12-11T12:03:20.713600",
     "status": "completed"
    },
    "tags": []
   },
   "outputs": [
    {
     "data": {
      "text/plain": [
       "stu_group\n",
       "Science     2975\n",
       "Commerce    2886\n",
       "Arts        2751\n",
       "Name: count, dtype: int64"
      ]
     },
     "execution_count": 4,
     "metadata": {},
     "output_type": "execute_result"
    }
   ],
   "source": [
    "class_count = data[\"stu_group\"].value_counts()\n",
    "\n",
    "class_count"
   ]
  },
  {
   "cell_type": "markdown",
   "id": "6253db2d",
   "metadata": {
    "papermill": {
     "duration": 0.01492,
     "end_time": "2024-12-11T12:03:20.777684",
     "exception": false,
     "start_time": "2024-12-11T12:03:20.762764",
     "status": "completed"
    },
    "tags": []
   },
   "source": [
    ">  Check Dataframe information\n"
   ]
  },
  {
   "cell_type": "code",
   "execution_count": 5,
   "id": "95b152b2",
   "metadata": {
    "execution": {
     "iopub.execute_input": "2024-12-11T12:03:20.809636Z",
     "iopub.status.busy": "2024-12-11T12:03:20.809215Z",
     "iopub.status.idle": "2024-12-11T12:03:20.835534Z",
     "shell.execute_reply": "2024-12-11T12:03:20.834534Z"
    },
    "papermill": {
     "duration": 0.045171,
     "end_time": "2024-12-11T12:03:20.838013",
     "exception": false,
     "start_time": "2024-12-11T12:03:20.792842",
     "status": "completed"
    },
    "tags": []
   },
   "outputs": [
    {
     "name": "stdout",
     "output_type": "stream",
     "text": [
      "### Dataframe information ### \n",
      "\n",
      "<class 'pandas.core.frame.DataFrame'>\n",
      "RangeIndex: 8612 entries, 0 to 8611\n",
      "Data columns (total 24 columns):\n",
      " #   Column                       Non-Null Count  Dtype \n",
      "---  ------                       --------------  ----- \n",
      " 0   id                           8612 non-null   int64 \n",
      " 1   full_name                    8612 non-null   object\n",
      " 2   age                          8612 non-null   int64 \n",
      " 3   gender                       8612 non-null   object\n",
      " 4   location                     8611 non-null   object\n",
      " 5   family_size                  8612 non-null   int64 \n",
      " 6   mother_education             8602 non-null   object\n",
      " 7   father_education             8608 non-null   object\n",
      " 8   mother_job                   8612 non-null   object\n",
      " 9   father_job                   8612 non-null   object\n",
      " 10  guardian                     8612 non-null   object\n",
      " 11  parental_involvement         8612 non-null   object\n",
      " 12  internet_access              8612 non-null   object\n",
      " 13  studytime                    8612 non-null   int64 \n",
      " 14  tutoring                     8612 non-null   object\n",
      " 15  school_type                  8612 non-null   object\n",
      " 16  attendance                   8612 non-null   int64 \n",
      " 17  extra_curricular_activities  8612 non-null   object\n",
      " 18  english                      8612 non-null   int64 \n",
      " 19  math                         8612 non-null   int64 \n",
      " 20  science                      8612 non-null   int64 \n",
      " 21  social_science               8612 non-null   int64 \n",
      " 22  art_culture                  8612 non-null   int64 \n",
      " 23  stu_group                    8612 non-null   object\n",
      "dtypes: int64(10), object(14)\n",
      "memory usage: 1.6+ MB\n"
     ]
    }
   ],
   "source": [
    "print('### Dataframe information ###','\\n')\n",
    "data.info()"
   ]
  },
  {
   "cell_type": "markdown",
   "id": "ed749faa",
   "metadata": {
    "papermill": {
     "duration": 0.015173,
     "end_time": "2024-12-11T12:03:20.869071",
     "exception": false,
     "start_time": "2024-12-11T12:03:20.853898",
     "status": "completed"
    },
    "tags": []
   },
   "source": [
    "> Check Rows and Column"
   ]
  },
  {
   "cell_type": "code",
   "execution_count": 6,
   "id": "d2ab6dd5",
   "metadata": {
    "execution": {
     "iopub.execute_input": "2024-12-11T12:03:20.901760Z",
     "iopub.status.busy": "2024-12-11T12:03:20.900988Z",
     "iopub.status.idle": "2024-12-11T12:03:20.907441Z",
     "shell.execute_reply": "2024-12-11T12:03:20.906392Z"
    },
    "papermill": {
     "duration": 0.025,
     "end_time": "2024-12-11T12:03:20.909401",
     "exception": false,
     "start_time": "2024-12-11T12:03:20.884401",
     "status": "completed"
    },
    "tags": []
   },
   "outputs": [
    {
     "data": {
      "text/plain": [
       "(8612, 24)"
      ]
     },
     "execution_count": 6,
     "metadata": {},
     "output_type": "execute_result"
    }
   ],
   "source": [
    "data.shape"
   ]
  },
  {
   "cell_type": "markdown",
   "id": "0e05ecc9",
   "metadata": {
    "papermill": {
     "duration": 0.016466,
     "end_time": "2024-12-11T12:03:20.941472",
     "exception": false,
     "start_time": "2024-12-11T12:03:20.925006",
     "status": "completed"
    },
    "tags": []
   },
   "source": [
    "> Checking Null value"
   ]
  },
  {
   "cell_type": "code",
   "execution_count": 7,
   "id": "9f550637",
   "metadata": {
    "execution": {
     "iopub.execute_input": "2024-12-11T12:03:20.973818Z",
     "iopub.status.busy": "2024-12-11T12:03:20.973457Z",
     "iopub.status.idle": "2024-12-11T12:03:20.988397Z",
     "shell.execute_reply": "2024-12-11T12:03:20.987353Z"
    },
    "papermill": {
     "duration": 0.033621,
     "end_time": "2024-12-11T12:03:20.990476",
     "exception": false,
     "start_time": "2024-12-11T12:03:20.956855",
     "status": "completed"
    },
    "tags": []
   },
   "outputs": [
    {
     "data": {
      "text/plain": [
       "id                              0\n",
       "full_name                       0\n",
       "age                             0\n",
       "gender                          0\n",
       "location                        1\n",
       "family_size                     0\n",
       "mother_education               10\n",
       "father_education                4\n",
       "mother_job                      0\n",
       "father_job                      0\n",
       "guardian                        0\n",
       "parental_involvement            0\n",
       "internet_access                 0\n",
       "studytime                       0\n",
       "tutoring                        0\n",
       "school_type                     0\n",
       "attendance                      0\n",
       "extra_curricular_activities     0\n",
       "english                         0\n",
       "math                            0\n",
       "science                         0\n",
       "social_science                  0\n",
       "art_culture                     0\n",
       "stu_group                       0\n",
       "dtype: int64"
      ]
     },
     "execution_count": 7,
     "metadata": {},
     "output_type": "execute_result"
    }
   ],
   "source": [
    "data.isnull().sum()"
   ]
  },
  {
   "cell_type": "code",
   "execution_count": 8,
   "id": "4c7298e0",
   "metadata": {
    "execution": {
     "iopub.execute_input": "2024-12-11T12:03:21.024763Z",
     "iopub.status.busy": "2024-12-11T12:03:21.024392Z",
     "iopub.status.idle": "2024-12-11T12:03:21.038919Z",
     "shell.execute_reply": "2024-12-11T12:03:21.037821Z"
    },
    "papermill": {
     "duration": 0.035075,
     "end_time": "2024-12-11T12:03:21.041124",
     "exception": false,
     "start_time": "2024-12-11T12:03:21.006049",
     "status": "completed"
    },
    "tags": []
   },
   "outputs": [
    {
     "data": {
      "text/plain": [
       "15"
      ]
     },
     "execution_count": 8,
     "metadata": {},
     "output_type": "execute_result"
    }
   ],
   "source": [
    "data.isnull().sum().sum()"
   ]
  },
  {
   "cell_type": "markdown",
   "id": "707a0cfd",
   "metadata": {
    "papermill": {
     "duration": 0.015436,
     "end_time": "2024-12-11T12:03:21.072403",
     "exception": false,
     "start_time": "2024-12-11T12:03:21.056967",
     "status": "completed"
    },
    "tags": []
   },
   "source": [
    "> Check duplicate data"
   ]
  },
  {
   "cell_type": "code",
   "execution_count": 9,
   "id": "f3555ccf",
   "metadata": {
    "execution": {
     "iopub.execute_input": "2024-12-11T12:03:21.105918Z",
     "iopub.status.busy": "2024-12-11T12:03:21.105093Z",
     "iopub.status.idle": "2024-12-11T12:03:21.122506Z",
     "shell.execute_reply": "2024-12-11T12:03:21.121208Z"
    },
    "papermill": {
     "duration": 0.036532,
     "end_time": "2024-12-11T12:03:21.124798",
     "exception": false,
     "start_time": "2024-12-11T12:03:21.088266",
     "status": "completed"
    },
    "tags": []
   },
   "outputs": [
    {
     "name": "stdout",
     "output_type": "stream",
     "text": [
      "Number of duplicates: 0\n"
     ]
    }
   ],
   "source": [
    "print(\"Number of duplicates: \" + str(data.duplicated().sum()))"
   ]
  },
  {
   "cell_type": "markdown",
   "id": "032c820f",
   "metadata": {
    "papermill": {
     "duration": 0.01633,
     "end_time": "2024-12-11T12:03:21.157357",
     "exception": false,
     "start_time": "2024-12-11T12:03:21.141027",
     "status": "completed"
    },
    "tags": []
   },
   "source": [
    "> Convert the 'column_name' to lowercase\n",
    "\n",
    "> Strip leading and trailing spaces\n",
    "\n",
    "> Replace multiple spaces with a single space"
   ]
  },
  {
   "cell_type": "code",
   "execution_count": 10,
   "id": "ec796689",
   "metadata": {
    "execution": {
     "iopub.execute_input": "2024-12-11T12:03:21.245518Z",
     "iopub.status.busy": "2024-12-11T12:03:21.245081Z",
     "iopub.status.idle": "2024-12-11T12:03:21.312359Z",
     "shell.execute_reply": "2024-12-11T12:03:21.311240Z"
    },
    "papermill": {
     "duration": 0.141495,
     "end_time": "2024-12-11T12:03:21.314723",
     "exception": false,
     "start_time": "2024-12-11T12:03:21.173228",
     "status": "completed"
    },
    "tags": []
   },
   "outputs": [
    {
     "data": {
      "text/html": [
       "<div>\n",
       "<style scoped>\n",
       "    .dataframe tbody tr th:only-of-type {\n",
       "        vertical-align: middle;\n",
       "    }\n",
       "\n",
       "    .dataframe tbody tr th {\n",
       "        vertical-align: top;\n",
       "    }\n",
       "\n",
       "    .dataframe thead th {\n",
       "        text-align: right;\n",
       "    }\n",
       "</style>\n",
       "<table border=\"1\" class=\"dataframe\">\n",
       "  <thead>\n",
       "    <tr style=\"text-align: right;\">\n",
       "      <th></th>\n",
       "      <th>id</th>\n",
       "      <th>full_name</th>\n",
       "      <th>age</th>\n",
       "      <th>gender</th>\n",
       "      <th>location</th>\n",
       "      <th>family_size</th>\n",
       "      <th>mother_education</th>\n",
       "      <th>father_education</th>\n",
       "      <th>mother_job</th>\n",
       "      <th>father_job</th>\n",
       "      <th>...</th>\n",
       "      <th>tutoring</th>\n",
       "      <th>school_type</th>\n",
       "      <th>attendance</th>\n",
       "      <th>extra_curricular_activities</th>\n",
       "      <th>english</th>\n",
       "      <th>math</th>\n",
       "      <th>science</th>\n",
       "      <th>social_science</th>\n",
       "      <th>art_culture</th>\n",
       "      <th>stu_group</th>\n",
       "    </tr>\n",
       "  </thead>\n",
       "  <tbody>\n",
       "    <tr>\n",
       "      <th>0</th>\n",
       "      <td>2</td>\n",
       "      <td>Avi Biswas</td>\n",
       "      <td>16</td>\n",
       "      <td>male</td>\n",
       "      <td>urban</td>\n",
       "      <td>6</td>\n",
       "      <td>ssc</td>\n",
       "      <td>hsc</td>\n",
       "      <td>no</td>\n",
       "      <td>no</td>\n",
       "      <td>...</td>\n",
       "      <td>yes</td>\n",
       "      <td>private</td>\n",
       "      <td>95</td>\n",
       "      <td>yes</td>\n",
       "      <td>95</td>\n",
       "      <td>98</td>\n",
       "      <td>92</td>\n",
       "      <td>94</td>\n",
       "      <td>98</td>\n",
       "      <td>science</td>\n",
       "    </tr>\n",
       "    <tr>\n",
       "      <th>1</th>\n",
       "      <td>3</td>\n",
       "      <td>Taslima Sultana</td>\n",
       "      <td>18</td>\n",
       "      <td>female</td>\n",
       "      <td>rural</td>\n",
       "      <td>6</td>\n",
       "      <td>ssc</td>\n",
       "      <td>hsc</td>\n",
       "      <td>no</td>\n",
       "      <td>yes</td>\n",
       "      <td>...</td>\n",
       "      <td>no</td>\n",
       "      <td>semi_govt</td>\n",
       "      <td>92</td>\n",
       "      <td>no</td>\n",
       "      <td>65</td>\n",
       "      <td>71</td>\n",
       "      <td>40</td>\n",
       "      <td>78</td>\n",
       "      <td>80</td>\n",
       "      <td>commerce</td>\n",
       "    </tr>\n",
       "    <tr>\n",
       "      <th>2</th>\n",
       "      <td>4</td>\n",
       "      <td>Md Adilur Rahman</td>\n",
       "      <td>15</td>\n",
       "      <td>male</td>\n",
       "      <td>rural</td>\n",
       "      <td>4</td>\n",
       "      <td>ssc</td>\n",
       "      <td>ssc</td>\n",
       "      <td>yes</td>\n",
       "      <td>yes</td>\n",
       "      <td>...</td>\n",
       "      <td>yes</td>\n",
       "      <td>govt</td>\n",
       "      <td>81</td>\n",
       "      <td>yes</td>\n",
       "      <td>64</td>\n",
       "      <td>78</td>\n",
       "      <td>58</td>\n",
       "      <td>86</td>\n",
       "      <td>74</td>\n",
       "      <td>commerce</td>\n",
       "    </tr>\n",
       "    <tr>\n",
       "      <th>3</th>\n",
       "      <td>5</td>\n",
       "      <td>Saleh Ahmed</td>\n",
       "      <td>16</td>\n",
       "      <td>male</td>\n",
       "      <td>rural</td>\n",
       "      <td>6</td>\n",
       "      <td>ssc</td>\n",
       "      <td>ssc</td>\n",
       "      <td>yes</td>\n",
       "      <td>yes</td>\n",
       "      <td>...</td>\n",
       "      <td>yes</td>\n",
       "      <td>private</td>\n",
       "      <td>90</td>\n",
       "      <td>yes</td>\n",
       "      <td>84</td>\n",
       "      <td>90</td>\n",
       "      <td>85</td>\n",
       "      <td>86</td>\n",
       "      <td>88</td>\n",
       "      <td>science</td>\n",
       "    </tr>\n",
       "    <tr>\n",
       "      <th>4</th>\n",
       "      <td>6</td>\n",
       "      <td>Din Islam</td>\n",
       "      <td>17</td>\n",
       "      <td>male</td>\n",
       "      <td>urban</td>\n",
       "      <td>5</td>\n",
       "      <td>honors</td>\n",
       "      <td>masters</td>\n",
       "      <td>no</td>\n",
       "      <td>yes</td>\n",
       "      <td>...</td>\n",
       "      <td>yes</td>\n",
       "      <td>semi_govt</td>\n",
       "      <td>75</td>\n",
       "      <td>yes</td>\n",
       "      <td>54</td>\n",
       "      <td>70</td>\n",
       "      <td>45</td>\n",
       "      <td>79</td>\n",
       "      <td>76</td>\n",
       "      <td>commerce</td>\n",
       "    </tr>\n",
       "  </tbody>\n",
       "</table>\n",
       "<p>5 rows × 24 columns</p>\n",
       "</div>"
      ],
      "text/plain": [
       "   id         full_name  age  gender location  family_size mother_education  \\\n",
       "0   2        Avi Biswas   16    male    urban            6              ssc   \n",
       "1   3   Taslima Sultana   18  female    rural            6              ssc   \n",
       "2   4  Md Adilur Rahman   15    male    rural            4              ssc   \n",
       "3   5       Saleh Ahmed   16    male    rural            6              ssc   \n",
       "4   6         Din Islam   17    male    urban            5           honors   \n",
       "\n",
       "  father_education mother_job father_job  ... tutoring school_type attendance  \\\n",
       "0              hsc         no         no  ...      yes     private         95   \n",
       "1              hsc         no        yes  ...       no   semi_govt         92   \n",
       "2              ssc        yes        yes  ...      yes        govt         81   \n",
       "3              ssc        yes        yes  ...      yes     private         90   \n",
       "4          masters         no        yes  ...      yes   semi_govt         75   \n",
       "\n",
       "   extra_curricular_activities english math  science social_science  \\\n",
       "0                          yes      95   98       92             94   \n",
       "1                           no      65   71       40             78   \n",
       "2                          yes      64   78       58             86   \n",
       "3                          yes      84   90       85             86   \n",
       "4                          yes      54   70       45             79   \n",
       "\n",
       "   art_culture  stu_group  \n",
       "0           98    science  \n",
       "1           80   commerce  \n",
       "2           74   commerce  \n",
       "3           88    science  \n",
       "4           76   commerce  \n",
       "\n",
       "[5 rows x 24 columns]"
      ]
     },
     "execution_count": 10,
     "metadata": {},
     "output_type": "execute_result"
    }
   ],
   "source": [
    "# Convert the 'column_name' to lowercase\n",
    "data['gender'] = data['gender'].str.lower()\n",
    "data['location'] = data['location'].str.lower()\n",
    "data['mother_education'] = data['mother_education'].str.lower()\n",
    "data['father_education'] = data['father_education'].str.lower()\n",
    "data['mother_job'] = data['mother_job'].str.lower()\n",
    "data['father_job'] = data['father_job'].str.lower()\n",
    "\n",
    "data['guardian'] = data['guardian'].str.lower()\n",
    "data['parental_involvement'] = data['parental_involvement'].str.lower()\n",
    "data['internet_access'] = data['internet_access'].str.lower()\n",
    "data['tutoring'] = data['tutoring'].str.lower()\n",
    "data['school_type'] = data['school_type'].str.lower()\n",
    "data['extra_curricular_activities'] = data['extra_curricular_activities'].str.lower()\n",
    "data['stu_group'] = data['stu_group'].str.lower()\n",
    "\n",
    "# Strip leading and trailing spaces\n",
    "data['stu_group'] = data['stu_group'].str.strip()\n",
    "\n",
    "# Replace multiple spaces with a single space\n",
    "data['stu_group'] = data['stu_group'].str.replace(r'\\s+', ' ', regex=True)\n",
    "\n",
    "# Check the result\n",
    "data.head()"
   ]
  },
  {
   "cell_type": "markdown",
   "id": "97f1afff",
   "metadata": {
    "papermill": {
     "duration": 0.01588,
     "end_time": "2024-12-11T12:03:21.347118",
     "exception": false,
     "start_time": "2024-12-11T12:03:21.331238",
     "status": "completed"
    },
    "tags": []
   },
   "source": [
    "> Total & Average Score help to generate recommendation system"
   ]
  },
  {
   "cell_type": "code",
   "execution_count": 11,
   "id": "c6542d33",
   "metadata": {
    "execution": {
     "iopub.execute_input": "2024-12-11T12:03:21.380984Z",
     "iopub.status.busy": "2024-12-11T12:03:21.380564Z",
     "iopub.status.idle": "2024-12-11T12:03:21.410000Z",
     "shell.execute_reply": "2024-12-11T12:03:21.408943Z"
    },
    "papermill": {
     "duration": 0.049233,
     "end_time": "2024-12-11T12:03:21.412306",
     "exception": false,
     "start_time": "2024-12-11T12:03:21.363073",
     "status": "completed"
    },
    "tags": []
   },
   "outputs": [
    {
     "data": {
      "text/html": [
       "<div>\n",
       "<style scoped>\n",
       "    .dataframe tbody tr th:only-of-type {\n",
       "        vertical-align: middle;\n",
       "    }\n",
       "\n",
       "    .dataframe tbody tr th {\n",
       "        vertical-align: top;\n",
       "    }\n",
       "\n",
       "    .dataframe thead th {\n",
       "        text-align: right;\n",
       "    }\n",
       "</style>\n",
       "<table border=\"1\" class=\"dataframe\">\n",
       "  <thead>\n",
       "    <tr style=\"text-align: right;\">\n",
       "      <th></th>\n",
       "      <th>id</th>\n",
       "      <th>full_name</th>\n",
       "      <th>age</th>\n",
       "      <th>gender</th>\n",
       "      <th>location</th>\n",
       "      <th>family_size</th>\n",
       "      <th>mother_education</th>\n",
       "      <th>father_education</th>\n",
       "      <th>mother_job</th>\n",
       "      <th>father_job</th>\n",
       "      <th>...</th>\n",
       "      <th>attendance</th>\n",
       "      <th>extra_curricular_activities</th>\n",
       "      <th>english</th>\n",
       "      <th>math</th>\n",
       "      <th>science</th>\n",
       "      <th>social_science</th>\n",
       "      <th>art_culture</th>\n",
       "      <th>stu_group</th>\n",
       "      <th>total_score</th>\n",
       "      <th>average_score</th>\n",
       "    </tr>\n",
       "  </thead>\n",
       "  <tbody>\n",
       "    <tr>\n",
       "      <th>0</th>\n",
       "      <td>2</td>\n",
       "      <td>Avi Biswas</td>\n",
       "      <td>16</td>\n",
       "      <td>male</td>\n",
       "      <td>urban</td>\n",
       "      <td>6</td>\n",
       "      <td>ssc</td>\n",
       "      <td>hsc</td>\n",
       "      <td>no</td>\n",
       "      <td>no</td>\n",
       "      <td>...</td>\n",
       "      <td>95</td>\n",
       "      <td>yes</td>\n",
       "      <td>95</td>\n",
       "      <td>98</td>\n",
       "      <td>92</td>\n",
       "      <td>94</td>\n",
       "      <td>98</td>\n",
       "      <td>science</td>\n",
       "      <td>477</td>\n",
       "      <td>95.4</td>\n",
       "    </tr>\n",
       "    <tr>\n",
       "      <th>1</th>\n",
       "      <td>3</td>\n",
       "      <td>Taslima Sultana</td>\n",
       "      <td>18</td>\n",
       "      <td>female</td>\n",
       "      <td>rural</td>\n",
       "      <td>6</td>\n",
       "      <td>ssc</td>\n",
       "      <td>hsc</td>\n",
       "      <td>no</td>\n",
       "      <td>yes</td>\n",
       "      <td>...</td>\n",
       "      <td>92</td>\n",
       "      <td>no</td>\n",
       "      <td>65</td>\n",
       "      <td>71</td>\n",
       "      <td>40</td>\n",
       "      <td>78</td>\n",
       "      <td>80</td>\n",
       "      <td>commerce</td>\n",
       "      <td>334</td>\n",
       "      <td>66.8</td>\n",
       "    </tr>\n",
       "    <tr>\n",
       "      <th>2</th>\n",
       "      <td>4</td>\n",
       "      <td>Md Adilur Rahman</td>\n",
       "      <td>15</td>\n",
       "      <td>male</td>\n",
       "      <td>rural</td>\n",
       "      <td>4</td>\n",
       "      <td>ssc</td>\n",
       "      <td>ssc</td>\n",
       "      <td>yes</td>\n",
       "      <td>yes</td>\n",
       "      <td>...</td>\n",
       "      <td>81</td>\n",
       "      <td>yes</td>\n",
       "      <td>64</td>\n",
       "      <td>78</td>\n",
       "      <td>58</td>\n",
       "      <td>86</td>\n",
       "      <td>74</td>\n",
       "      <td>commerce</td>\n",
       "      <td>360</td>\n",
       "      <td>72.0</td>\n",
       "    </tr>\n",
       "    <tr>\n",
       "      <th>3</th>\n",
       "      <td>5</td>\n",
       "      <td>Saleh Ahmed</td>\n",
       "      <td>16</td>\n",
       "      <td>male</td>\n",
       "      <td>rural</td>\n",
       "      <td>6</td>\n",
       "      <td>ssc</td>\n",
       "      <td>ssc</td>\n",
       "      <td>yes</td>\n",
       "      <td>yes</td>\n",
       "      <td>...</td>\n",
       "      <td>90</td>\n",
       "      <td>yes</td>\n",
       "      <td>84</td>\n",
       "      <td>90</td>\n",
       "      <td>85</td>\n",
       "      <td>86</td>\n",
       "      <td>88</td>\n",
       "      <td>science</td>\n",
       "      <td>433</td>\n",
       "      <td>86.6</td>\n",
       "    </tr>\n",
       "    <tr>\n",
       "      <th>4</th>\n",
       "      <td>6</td>\n",
       "      <td>Din Islam</td>\n",
       "      <td>17</td>\n",
       "      <td>male</td>\n",
       "      <td>urban</td>\n",
       "      <td>5</td>\n",
       "      <td>honors</td>\n",
       "      <td>masters</td>\n",
       "      <td>no</td>\n",
       "      <td>yes</td>\n",
       "      <td>...</td>\n",
       "      <td>75</td>\n",
       "      <td>yes</td>\n",
       "      <td>54</td>\n",
       "      <td>70</td>\n",
       "      <td>45</td>\n",
       "      <td>79</td>\n",
       "      <td>76</td>\n",
       "      <td>commerce</td>\n",
       "      <td>324</td>\n",
       "      <td>64.8</td>\n",
       "    </tr>\n",
       "  </tbody>\n",
       "</table>\n",
       "<p>5 rows × 26 columns</p>\n",
       "</div>"
      ],
      "text/plain": [
       "   id         full_name  age  gender location  family_size mother_education  \\\n",
       "0   2        Avi Biswas   16    male    urban            6              ssc   \n",
       "1   3   Taslima Sultana   18  female    rural            6              ssc   \n",
       "2   4  Md Adilur Rahman   15    male    rural            4              ssc   \n",
       "3   5       Saleh Ahmed   16    male    rural            6              ssc   \n",
       "4   6         Din Islam   17    male    urban            5           honors   \n",
       "\n",
       "  father_education mother_job father_job  ... attendance  \\\n",
       "0              hsc         no         no  ...         95   \n",
       "1              hsc         no        yes  ...         92   \n",
       "2              ssc        yes        yes  ...         81   \n",
       "3              ssc        yes        yes  ...         90   \n",
       "4          masters         no        yes  ...         75   \n",
       "\n",
       "  extra_curricular_activities english  math science social_science  \\\n",
       "0                         yes      95    98      92             94   \n",
       "1                          no      65    71      40             78   \n",
       "2                         yes      64    78      58             86   \n",
       "3                         yes      84    90      85             86   \n",
       "4                         yes      54    70      45             79   \n",
       "\n",
       "   art_culture stu_group  total_score  average_score  \n",
       "0           98   science          477           95.4  \n",
       "1           80  commerce          334           66.8  \n",
       "2           74  commerce          360           72.0  \n",
       "3           88   science          433           86.6  \n",
       "4           76  commerce          324           64.8  \n",
       "\n",
       "[5 rows x 26 columns]"
      ]
     },
     "execution_count": 11,
     "metadata": {},
     "output_type": "execute_result"
    }
   ],
   "source": [
    "data.loc[: , \"total_score\"] = data[\"english\"] + data[\"math\"] + data[\"science\"] + data[\"social_science\"] + data[\"art_culture\"]\n",
    "data.loc[: , \"average_score\"] = data[\"total_score\"] / 5\n",
    "data.head()"
   ]
  },
  {
   "cell_type": "markdown",
   "id": "e14507f1",
   "metadata": {
    "papermill": {
     "duration": 0.015944,
     "end_time": "2024-12-11T12:03:21.444840",
     "exception": false,
     "start_time": "2024-12-11T12:03:21.428896",
     "status": "completed"
    },
    "tags": []
   },
   "source": [
    "> Check Numeric features"
   ]
  },
  {
   "cell_type": "code",
   "execution_count": 12,
   "id": "c0e818a2",
   "metadata": {
    "execution": {
     "iopub.execute_input": "2024-12-11T12:03:21.479275Z",
     "iopub.status.busy": "2024-12-11T12:03:21.478879Z",
     "iopub.status.idle": "2024-12-11T12:03:21.612945Z",
     "shell.execute_reply": "2024-12-11T12:03:21.611857Z"
    },
    "papermill": {
     "duration": 0.154066,
     "end_time": "2024-12-11T12:03:21.615135",
     "exception": false,
     "start_time": "2024-12-11T12:03:21.461069",
     "status": "completed"
    },
    "tags": []
   },
   "outputs": [
    {
     "data": {
      "text/html": [
       "<style type=\"text/css\">\n",
       "#T_96555_row0_col0, #T_96555_row1_col0, #T_96555_row2_col0, #T_96555_row3_col0, #T_96555_row4_col0, #T_96555_row5_col0, #T_96555_row6_col0, #T_96555_row7_col0, #T_96555_row8_col0, #T_96555_row9_col0, #T_96555_row9_col2, #T_96555_row9_col4, #T_96555_row9_col5, #T_96555_row9_col6, #T_96555_row10_col0, #T_96555_row10_col2, #T_96555_row10_col3, #T_96555_row10_col4, #T_96555_row10_col5, #T_96555_row10_col6, #T_96555_row11_col0, #T_96555_row11_col2, #T_96555_row11_col5, #T_96555_row11_col6 {\n",
       "  background-color: #f7fcf0;\n",
       "  color: #000000;\n",
       "}\n",
       "#T_96555_row0_col1 {\n",
       "  background-color: #084081;\n",
       "  color: #f1f1f1;\n",
       "  width: 10em;\n",
       "  background: linear-gradient(90deg, green 100.0%, transparent 100.0%);\n",
       "}\n",
       "#T_96555_row0_col2, #T_96555_row0_col4, #T_96555_row0_col5, #T_96555_row0_col6, #T_96555_row1_col3 {\n",
       "  background-color: #084081;\n",
       "  color: #f1f1f1;\n",
       "}\n",
       "#T_96555_row0_col3 {\n",
       "  background-color: #f6fbef;\n",
       "  color: #000000;\n",
       "}\n",
       "#T_96555_row0_col7 {\n",
       "  background-color: #084081;\n",
       "  color: #f1f1f1;\n",
       "  width: 10em;\n",
       "  background: linear-gradient(90deg, #BB0000 100.0%, transparent 100.0%);\n",
       "}\n",
       "#T_96555_row1_col1 {\n",
       "  background-color: #e8f6e2;\n",
       "  color: #000000;\n",
       "  width: 10em;\n",
       "  background: linear-gradient(90deg, green 8.6%, transparent 8.6%);\n",
       "}\n",
       "#T_96555_row1_col2, #T_96555_row7_col4 {\n",
       "  background-color: #f3faec;\n",
       "  color: #000000;\n",
       "}\n",
       "#T_96555_row1_col4 {\n",
       "  background-color: #def2d9;\n",
       "  color: #000000;\n",
       "}\n",
       "#T_96555_row1_col5 {\n",
       "  background-color: #e7f6e2;\n",
       "  color: #000000;\n",
       "}\n",
       "#T_96555_row1_col6 {\n",
       "  background-color: #ebf7e5;\n",
       "  color: #000000;\n",
       "}\n",
       "#T_96555_row1_col7 {\n",
       "  background-color: #edf8e7;\n",
       "  color: #000000;\n",
       "  width: 10em;\n",
       "  background: linear-gradient(90deg, #BB0000 5.7%, transparent 5.7%);\n",
       "}\n",
       "#T_96555_row2_col1, #T_96555_row3_col1, #T_96555_row4_col1, #T_96555_row5_col1, #T_96555_row7_col1, #T_96555_row8_col1 {\n",
       "  background-color: #f4fbed;\n",
       "  color: #000000;\n",
       "  width: 10em;\n",
       "  background: linear-gradient(90deg, green 1.7%, transparent 1.7%);\n",
       "}\n",
       "#T_96555_row2_col2, #T_96555_row3_col2, #T_96555_row4_col2, #T_96555_row5_col2, #T_96555_row6_col2, #T_96555_row7_col2, #T_96555_row8_col2, #T_96555_row9_col3, #T_96555_row11_col4 {\n",
       "  background-color: #f6fcef;\n",
       "  color: #000000;\n",
       "}\n",
       "#T_96555_row2_col3, #T_96555_row4_col3 {\n",
       "  background-color: #dcf1d7;\n",
       "  color: #000000;\n",
       "}\n",
       "#T_96555_row2_col4, #T_96555_row3_col4, #T_96555_row4_col4, #T_96555_row5_col4, #T_96555_row6_col4, #T_96555_row8_col4 {\n",
       "  background-color: #f2faeb;\n",
       "  color: #000000;\n",
       "}\n",
       "#T_96555_row2_col5, #T_96555_row3_col5, #T_96555_row4_col5, #T_96555_row5_col5, #T_96555_row6_col5, #T_96555_row7_col5, #T_96555_row8_col5 {\n",
       "  background-color: #f4fbed;\n",
       "  color: #000000;\n",
       "}\n",
       "#T_96555_row2_col6, #T_96555_row3_col6, #T_96555_row4_col6, #T_96555_row5_col6, #T_96555_row6_col6, #T_96555_row7_col6, #T_96555_row8_col6 {\n",
       "  background-color: #f5fbee;\n",
       "  color: #000000;\n",
       "}\n",
       "#T_96555_row2_col7, #T_96555_row3_col7, #T_96555_row4_col7, #T_96555_row5_col7, #T_96555_row6_col7, #T_96555_row8_col7 {\n",
       "  background-color: #f6fbef;\n",
       "  color: #000000;\n",
       "  width: 10em;\n",
       "  background: linear-gradient(90deg, #BB0000 1.2%, transparent 1.2%);\n",
       "}\n",
       "#T_96555_row3_col3 {\n",
       "  background-color: #e9f6e3;\n",
       "  color: #000000;\n",
       "}\n",
       "#T_96555_row5_col3, #T_96555_row6_col3 {\n",
       "  background-color: #daf1d5;\n",
       "  color: #000000;\n",
       "}\n",
       "#T_96555_row6_col1 {\n",
       "  background-color: #f4fbed;\n",
       "  color: #000000;\n",
       "  width: 10em;\n",
       "  background: linear-gradient(90deg, green 1.8%, transparent 1.8%);\n",
       "}\n",
       "#T_96555_row7_col3 {\n",
       "  background-color: #d4eece;\n",
       "  color: #000000;\n",
       "}\n",
       "#T_96555_row7_col7 {\n",
       "  background-color: #f6fbef;\n",
       "  color: #000000;\n",
       "  width: 10em;\n",
       "  background: linear-gradient(90deg, #BB0000 1.1%, transparent 1.1%);\n",
       "}\n",
       "#T_96555_row8_col3 {\n",
       "  background-color: #dff2da;\n",
       "  color: #000000;\n",
       "}\n",
       "#T_96555_row9_col1, #T_96555_row10_col1 {\n",
       "  background-color: #f7fcf0;\n",
       "  color: #000000;\n",
       "  width: 10em;\n",
       "  background: linear-gradient(90deg, green 0.1%, transparent 0.1%);\n",
       "}\n",
       "#T_96555_row9_col7 {\n",
       "  background-color: #f7fcf0;\n",
       "  color: #000000;\n",
       "  width: 10em;\n",
       "  background: linear-gradient(90deg, #BB0000 0.2%, transparent 0.2%);\n",
       "}\n",
       "#T_96555_row10_col7 {\n",
       "  background-color: #f7fcf0;\n",
       "  color: #000000;\n",
       "  width: 10em;\n",
       "  background: linear-gradient(90deg, #BB0000 0.1%, transparent 0.1%);\n",
       "}\n",
       "#T_96555_row11_col1 {\n",
       "  background-color: #f7fcf0;\n",
       "  color: #000000;\n",
       "  width: 10em;\n",
       "  background: linear-gradient(90deg, green 0.4%, transparent 0.4%);\n",
       "}\n",
       "#T_96555_row11_col3 {\n",
       "  background-color: #eff9e9;\n",
       "  color: #000000;\n",
       "}\n",
       "#T_96555_row11_col7 {\n",
       "  background-color: #f7fcf0;\n",
       "  color: #000000;\n",
       "  width: 10em;\n",
       "  background: linear-gradient(90deg, #BB0000 0.3%, transparent 0.3%);\n",
       "}\n",
       "</style>\n",
       "<table id=\"T_96555\">\n",
       "  <thead>\n",
       "    <tr>\n",
       "      <th class=\"blank level0\" >&nbsp;</th>\n",
       "      <th id=\"T_96555_level0_col0\" class=\"col_heading level0 col0\" >count</th>\n",
       "      <th id=\"T_96555_level0_col1\" class=\"col_heading level0 col1\" >mean</th>\n",
       "      <th id=\"T_96555_level0_col2\" class=\"col_heading level0 col2\" >std</th>\n",
       "      <th id=\"T_96555_level0_col3\" class=\"col_heading level0 col3\" >min</th>\n",
       "      <th id=\"T_96555_level0_col4\" class=\"col_heading level0 col4\" >25%</th>\n",
       "      <th id=\"T_96555_level0_col5\" class=\"col_heading level0 col5\" >50%</th>\n",
       "      <th id=\"T_96555_level0_col6\" class=\"col_heading level0 col6\" >75%</th>\n",
       "      <th id=\"T_96555_level0_col7\" class=\"col_heading level0 col7\" >max</th>\n",
       "    </tr>\n",
       "  </thead>\n",
       "  <tbody>\n",
       "    <tr>\n",
       "      <th id=\"T_96555_level0_row0\" class=\"row_heading level0 row0\" >id</th>\n",
       "      <td id=\"T_96555_row0_col0\" class=\"data row0 col0\" >8612.000000</td>\n",
       "      <td id=\"T_96555_row0_col1\" class=\"data row0 col1\" >4307.500000</td>\n",
       "      <td id=\"T_96555_row0_col2\" class=\"data row0 col2\" >2486.214593</td>\n",
       "      <td id=\"T_96555_row0_col3\" class=\"data row0 col3\" >2.000000</td>\n",
       "      <td id=\"T_96555_row0_col4\" class=\"data row0 col4\" >2154.750000</td>\n",
       "      <td id=\"T_96555_row0_col5\" class=\"data row0 col5\" >4307.500000</td>\n",
       "      <td id=\"T_96555_row0_col6\" class=\"data row0 col6\" >6460.250000</td>\n",
       "      <td id=\"T_96555_row0_col7\" class=\"data row0 col7\" >8613.000000</td>\n",
       "    </tr>\n",
       "    <tr>\n",
       "      <th id=\"T_96555_level0_row1\" class=\"row_heading level0 row1\" >total_score</th>\n",
       "      <td id=\"T_96555_row1_col0\" class=\"data row1 col0\" >8612.000000</td>\n",
       "      <td id=\"T_96555_row1_col1\" class=\"data row1 col1\" >370.774152</td>\n",
       "      <td id=\"T_96555_row1_col2\" class=\"data row1 col2\" >67.716088</td>\n",
       "      <td id=\"T_96555_row1_col3\" class=\"data row1 col3\" >220.000000</td>\n",
       "      <td id=\"T_96555_row1_col4\" class=\"data row1 col4\" >304.000000</td>\n",
       "      <td id=\"T_96555_row1_col5\" class=\"data row1 col5\" >377.000000</td>\n",
       "      <td id=\"T_96555_row1_col6\" class=\"data row1 col6\" >437.000000</td>\n",
       "      <td id=\"T_96555_row1_col7\" class=\"data row1 col7\" >489.000000</td>\n",
       "    </tr>\n",
       "    <tr>\n",
       "      <th id=\"T_96555_level0_row2\" class=\"row_heading level0 row2\" >math</th>\n",
       "      <td id=\"T_96555_row2_col0\" class=\"data row2 col0\" >8612.000000</td>\n",
       "      <td id=\"T_96555_row2_col1\" class=\"data row2 col1\" >72.938110</td>\n",
       "      <td id=\"T_96555_row2_col2\" class=\"data row2 col2\" >15.816147</td>\n",
       "      <td id=\"T_96555_row2_col3\" class=\"data row2 col3\" >33.000000</td>\n",
       "      <td id=\"T_96555_row2_col4\" class=\"data row2 col4\" >64.000000</td>\n",
       "      <td id=\"T_96555_row2_col5\" class=\"data row2 col5\" >73.000000</td>\n",
       "      <td id=\"T_96555_row2_col6\" class=\"data row2 col6\" >84.000000</td>\n",
       "      <td id=\"T_96555_row2_col7\" class=\"data row2 col7\" >100.000000</td>\n",
       "    </tr>\n",
       "    <tr>\n",
       "      <th id=\"T_96555_level0_row3\" class=\"row_heading level0 row3\" >english</th>\n",
       "      <td id=\"T_96555_row3_col0\" class=\"data row3 col0\" >8612.000000</td>\n",
       "      <td id=\"T_96555_row3_col1\" class=\"data row3 col1\" >73.610427</td>\n",
       "      <td id=\"T_96555_row3_col2\" class=\"data row3 col2\" >15.343903</td>\n",
       "      <td id=\"T_96555_row3_col3\" class=\"data row3 col3\" >18.000000</td>\n",
       "      <td id=\"T_96555_row3_col4\" class=\"data row3 col4\" >64.000000</td>\n",
       "      <td id=\"T_96555_row3_col5\" class=\"data row3 col5\" >75.000000</td>\n",
       "      <td id=\"T_96555_row3_col6\" class=\"data row3 col6\" >85.000000</td>\n",
       "      <td id=\"T_96555_row3_col7\" class=\"data row3 col7\" >100.000000</td>\n",
       "    </tr>\n",
       "    <tr>\n",
       "      <th id=\"T_96555_level0_row4\" class=\"row_heading level0 row4\" >science</th>\n",
       "      <td id=\"T_96555_row4_col0\" class=\"data row4 col0\" >8612.000000</td>\n",
       "      <td id=\"T_96555_row4_col1\" class=\"data row4 col1\" >73.524036</td>\n",
       "      <td id=\"T_96555_row4_col2\" class=\"data row4 col2\" >15.115104</td>\n",
       "      <td id=\"T_96555_row4_col3\" class=\"data row4 col3\" >33.000000</td>\n",
       "      <td id=\"T_96555_row4_col4\" class=\"data row4 col4\" >63.000000</td>\n",
       "      <td id=\"T_96555_row4_col5\" class=\"data row4 col5\" >75.000000</td>\n",
       "      <td id=\"T_96555_row4_col6\" class=\"data row4 col6\" >85.000000</td>\n",
       "      <td id=\"T_96555_row4_col7\" class=\"data row4 col7\" >100.000000</td>\n",
       "    </tr>\n",
       "    <tr>\n",
       "      <th id=\"T_96555_level0_row5\" class=\"row_heading level0 row5\" >social_science</th>\n",
       "      <td id=\"T_96555_row5_col0\" class=\"data row5 col0\" >8612.000000</td>\n",
       "      <td id=\"T_96555_row5_col1\" class=\"data row5 col1\" >74.465513</td>\n",
       "      <td id=\"T_96555_row5_col2\" class=\"data row5 col2\" >14.945846</td>\n",
       "      <td id=\"T_96555_row5_col3\" class=\"data row5 col3\" >36.000000</td>\n",
       "      <td id=\"T_96555_row5_col4\" class=\"data row5 col4\" >65.000000</td>\n",
       "      <td id=\"T_96555_row5_col5\" class=\"data row5 col5\" >77.000000</td>\n",
       "      <td id=\"T_96555_row5_col6\" class=\"data row5 col6\" >86.000000</td>\n",
       "      <td id=\"T_96555_row5_col7\" class=\"data row5 col7\" >100.000000</td>\n",
       "    </tr>\n",
       "    <tr>\n",
       "      <th id=\"T_96555_level0_row6\" class=\"row_heading level0 row6\" >art_culture</th>\n",
       "      <td id=\"T_96555_row6_col0\" class=\"data row6 col0\" >8612.000000</td>\n",
       "      <td id=\"T_96555_row6_col1\" class=\"data row6 col1\" >76.236066</td>\n",
       "      <td id=\"T_96555_row6_col2\" class=\"data row6 col2\" >13.619125</td>\n",
       "      <td id=\"T_96555_row6_col3\" class=\"data row6 col3\" >36.000000</td>\n",
       "      <td id=\"T_96555_row6_col4\" class=\"data row6 col4\" >69.000000</td>\n",
       "      <td id=\"T_96555_row6_col5\" class=\"data row6 col5\" >76.000000</td>\n",
       "      <td id=\"T_96555_row6_col6\" class=\"data row6 col6\" >86.000000</td>\n",
       "      <td id=\"T_96555_row6_col7\" class=\"data row6 col7\" >100.000000</td>\n",
       "    </tr>\n",
       "    <tr>\n",
       "      <th id=\"T_96555_level0_row7\" class=\"row_heading level0 row7\" >average_score</th>\n",
       "      <td id=\"T_96555_row7_col0\" class=\"data row7 col0\" >8612.000000</td>\n",
       "      <td id=\"T_96555_row7_col1\" class=\"data row7 col1\" >74.154830</td>\n",
       "      <td id=\"T_96555_row7_col2\" class=\"data row7 col2\" >13.543218</td>\n",
       "      <td id=\"T_96555_row7_col3\" class=\"data row7 col3\" >44.000000</td>\n",
       "      <td id=\"T_96555_row7_col4\" class=\"data row7 col4\" >60.800000</td>\n",
       "      <td id=\"T_96555_row7_col5\" class=\"data row7 col5\" >75.400000</td>\n",
       "      <td id=\"T_96555_row7_col6\" class=\"data row7 col6\" >87.400000</td>\n",
       "      <td id=\"T_96555_row7_col7\" class=\"data row7 col7\" >97.800000</td>\n",
       "    </tr>\n",
       "    <tr>\n",
       "      <th id=\"T_96555_level0_row8\" class=\"row_heading level0 row8\" >attendance</th>\n",
       "      <td id=\"T_96555_row8_col0\" class=\"data row8 col0\" >8612.000000</td>\n",
       "      <td id=\"T_96555_row8_col1\" class=\"data row8 col1\" >74.027055</td>\n",
       "      <td id=\"T_96555_row8_col2\" class=\"data row8 col2\" >13.290046</td>\n",
       "      <td id=\"T_96555_row8_col3\" class=\"data row8 col3\" >30.000000</td>\n",
       "      <td id=\"T_96555_row8_col4\" class=\"data row8 col4\" >63.000000</td>\n",
       "      <td id=\"T_96555_row8_col5\" class=\"data row8 col5\" >73.000000</td>\n",
       "      <td id=\"T_96555_row8_col6\" class=\"data row8 col6\" >86.000000</td>\n",
       "      <td id=\"T_96555_row8_col7\" class=\"data row8 col7\" >100.000000</td>\n",
       "    </tr>\n",
       "    <tr>\n",
       "      <th id=\"T_96555_level0_row9\" class=\"row_heading level0 row9\" >studytime</th>\n",
       "      <td id=\"T_96555_row9_col0\" class=\"data row9 col0\" >8612.000000</td>\n",
       "      <td id=\"T_96555_row9_col1\" class=\"data row9 col1\" >4.746168</td>\n",
       "      <td id=\"T_96555_row9_col2\" class=\"data row9 col2\" >2.185645</td>\n",
       "      <td id=\"T_96555_row9_col3\" class=\"data row9 col3\" >1.000000</td>\n",
       "      <td id=\"T_96555_row9_col4\" class=\"data row9 col4\" >3.000000</td>\n",
       "      <td id=\"T_96555_row9_col5\" class=\"data row9 col5\" >5.000000</td>\n",
       "      <td id=\"T_96555_row9_col6\" class=\"data row9 col6\" >6.000000</td>\n",
       "      <td id=\"T_96555_row9_col7\" class=\"data row9 col7\" >16.000000</td>\n",
       "    </tr>\n",
       "    <tr>\n",
       "      <th id=\"T_96555_level0_row10\" class=\"row_heading level0 row10\" >family_size</th>\n",
       "      <td id=\"T_96555_row10_col0\" class=\"data row10 col0\" >8612.000000</td>\n",
       "      <td id=\"T_96555_row10_col1\" class=\"data row10 col1\" >4.502206</td>\n",
       "      <td id=\"T_96555_row10_col2\" class=\"data row10 col2\" >1.656726</td>\n",
       "      <td id=\"T_96555_row10_col3\" class=\"data row10 col3\" >0.000000</td>\n",
       "      <td id=\"T_96555_row10_col4\" class=\"data row10 col4\" >3.000000</td>\n",
       "      <td id=\"T_96555_row10_col5\" class=\"data row10 col5\" >5.000000</td>\n",
       "      <td id=\"T_96555_row10_col6\" class=\"data row10 col6\" >6.000000</td>\n",
       "      <td id=\"T_96555_row10_col7\" class=\"data row10 col7\" >11.000000</td>\n",
       "    </tr>\n",
       "    <tr>\n",
       "      <th id=\"T_96555_level0_row11\" class=\"row_heading level0 row11\" >age</th>\n",
       "      <td id=\"T_96555_row11_col0\" class=\"data row11 col0\" >8612.000000</td>\n",
       "      <td id=\"T_96555_row11_col1\" class=\"data row11 col1\" >16.614375</td>\n",
       "      <td id=\"T_96555_row11_col2\" class=\"data row11 col2\" >0.969057</td>\n",
       "      <td id=\"T_96555_row11_col3\" class=\"data row11 col3\" >10.000000</td>\n",
       "      <td id=\"T_96555_row11_col4\" class=\"data row11 col4\" >16.000000</td>\n",
       "      <td id=\"T_96555_row11_col5\" class=\"data row11 col5\" >17.000000</td>\n",
       "      <td id=\"T_96555_row11_col6\" class=\"data row11 col6\" >17.000000</td>\n",
       "      <td id=\"T_96555_row11_col7\" class=\"data row11 col7\" >24.000000</td>\n",
       "    </tr>\n",
       "  </tbody>\n",
       "</table>\n"
      ],
      "text/plain": [
       "<pandas.io.formats.style.Styler at 0x7b1d0f697760>"
      ]
     },
     "execution_count": 12,
     "metadata": {},
     "output_type": "execute_result"
    }
   ],
   "source": [
    "data.iloc[:, :].describe().T.sort_values(by='std' , ascending = False)\\\n",
    "                     .style.background_gradient(cmap='GnBu')\\\n",
    "                     .bar(subset=[\"max\"], color='#BB0000')\\\n",
    "                     .bar(subset=[\"mean\",], color='green')"
   ]
  },
  {
   "cell_type": "markdown",
   "id": "497e6981",
   "metadata": {
    "papermill": {
     "duration": 0.016345,
     "end_time": "2024-12-11T12:03:21.648263",
     "exception": false,
     "start_time": "2024-12-11T12:03:21.631918",
     "status": "completed"
    },
    "tags": []
   },
   "source": [
    "<div style=\"background-color:#00008B; padding: 20px; border-radius: 255px; font-weight: bold; border: 3px solid #00008B; text-align: center;\">\n",
    "    <h1 style=\"font-size: 30px; color: white; margin: 0;\">4 | EDA</h1>\n",
    "</div>\n"
   ]
  },
  {
   "cell_type": "markdown",
   "id": "aa9645f5",
   "metadata": {
    "papermill": {
     "duration": 0.016202,
     "end_time": "2024-12-11T12:03:21.681089",
     "exception": false,
     "start_time": "2024-12-11T12:03:21.664887",
     "status": "completed"
    },
    "tags": []
   },
   "source": [
    "> correletion check between the features"
   ]
  },
  {
   "cell_type": "code",
   "execution_count": 13,
   "id": "ebd6ceb1",
   "metadata": {
    "execution": {
     "iopub.execute_input": "2024-12-11T12:03:21.717057Z",
     "iopub.status.busy": "2024-12-11T12:03:21.716080Z",
     "iopub.status.idle": "2024-12-11T12:03:23.439123Z",
     "shell.execute_reply": "2024-12-11T12:03:23.438057Z"
    },
    "papermill": {
     "duration": 1.747832,
     "end_time": "2024-12-11T12:03:23.445418",
     "exception": false,
     "start_time": "2024-12-11T12:03:21.697586",
     "status": "completed"
    },
    "tags": []
   },
   "outputs": [
    {
     "data": {
      "image/png": "[encoded data removed]",
      "text/plain": [
       "<Figure size 1200x1000 with 2 Axes>"
      ]
     },
     "metadata": {},
     "output_type": "display_data"
    }
   ],
   "source": [
    "Attributes = data[[\n",
    "    'age', 'gender', 'location', 'family_size', 'mother_education',\n",
    "       'father_education', 'mother_job', 'father_job', 'guardian',\n",
    "       'parental_involvement', 'internet_access', 'studytime', 'tutoring',\n",
    "       'school_type', 'attendance', 'extra_curricular_activities', 'english',\n",
    "       'math', 'science', 'social_science', 'art_culture', 'total_score',\n",
    "       'average_score','stu_group'\n",
    "]].copy()\n",
    "\n",
    "# Convert non-numeric columns to numeric using label encoding\n",
    "label_encoder = LabelEncoder()\n",
    "for column in Attributes.columns:\n",
    "    if Attributes[column].dtype == 'object':\n",
    "        Attributes[column] = label_encoder.fit_transform(Attributes[column])\n",
    "\n",
    "# Rename columns if specific names are provided (no ambiguous column renaming)\n",
    "Attributes.rename(columns={\n",
    "    \"stu_group\": \"Student_Group\"  # Example of renaming if needed\n",
    "}, inplace=True)\n",
    "\n",
    "# Calculate the correlation matrix\n",
    "correlation_matrix = Attributes.corr()\n",
    "\n",
    "# Create a heatmap of the correlation matrix\n",
    "plt.figure(figsize=(12, 10))  # Adjust figure size for better readability\n",
    "sns.heatmap(correlation_matrix, annot=True, cmap='coolwarm', fmt=\".2f\")\n",
    "\n",
    "# Set the axis labels and title\n",
    "plt.xlabel('Attributes')\n",
    "plt.ylabel('Attributes')\n",
    "plt.title('Correlation Matrix')\n",
    "\n",
    "# Display the heatmap\n",
    "plt.show()\n"
   ]
  },
  {
   "cell_type": "markdown",
   "id": "211cfcfe",
   "metadata": {
    "papermill": {
     "duration": 0.021538,
     "end_time": "2024-12-11T12:03:23.488770",
     "exception": false,
     "start_time": "2024-12-11T12:03:23.467232",
     "status": "completed"
    },
    "tags": []
   },
   "source": [
    "> Gender Distribution of Students"
   ]
  },
  {
   "cell_type": "code",
   "execution_count": 14,
   "id": "5b1a5366",
   "metadata": {
    "execution": {
     "iopub.execute_input": "2024-12-11T12:03:23.533990Z",
     "iopub.status.busy": "2024-12-11T12:03:23.533608Z",
     "iopub.status.idle": "2024-12-11T12:03:23.678046Z",
     "shell.execute_reply": "2024-12-11T12:03:23.676690Z"
    },
    "papermill": {
     "duration": 0.171977,
     "end_time": "2024-12-11T12:03:23.682367",
     "exception": false,
     "start_time": "2024-12-11T12:03:23.510390",
     "status": "completed"
    },
    "tags": []
   },
   "outputs": [
    {
     "data": {
      "image/png": "[encoded data removed]",
      "text/plain": [
       "<Figure size 640x480 with 1 Axes>"
      ]
     },
     "metadata": {},
     "output_type": "display_data"
    }
   ],
   "source": [
    "gender_count = data['gender'].value_counts()\n",
    "\n",
    "# Plot gender distribution\n",
    "sns.barplot(x=gender_count.index, y=gender_count.values, palette='pastel')\n",
    "plt.title('Gender Distribution of Students')\n",
    "plt.xlabel('Gender')\n",
    "plt.ylabel('Number of Students')\n",
    "plt.show()"
   ]
  },
  {
   "cell_type": "markdown",
   "id": "ca1878f6",
   "metadata": {
    "papermill": {
     "duration": 0.023168,
     "end_time": "2024-12-11T12:03:23.733182",
     "exception": false,
     "start_time": "2024-12-11T12:03:23.710014",
     "status": "completed"
    },
    "tags": []
   },
   "source": [
    "> How is the age of students distributed"
   ]
  },
  {
   "cell_type": "code",
   "execution_count": 15,
   "id": "87528d81",
   "metadata": {
    "execution": {
     "iopub.execute_input": "2024-12-11T12:03:23.779698Z",
     "iopub.status.busy": "2024-12-11T12:03:23.779288Z",
     "iopub.status.idle": "2024-12-11T12:03:24.138010Z",
     "shell.execute_reply": "2024-12-11T12:03:24.136886Z"
    },
    "papermill": {
     "duration": 0.38464,
     "end_time": "2024-12-11T12:03:24.140281",
     "exception": false,
     "start_time": "2024-12-11T12:03:23.755641",
     "status": "completed"
    },
    "tags": []
   },
   "outputs": [
    {
     "name": "stderr",
     "output_type": "stream",
     "text": [
      "/opt/conda/lib/python3.10/site-packages/seaborn/_oldcore.py:1119: FutureWarning: use_inf_as_na option is deprecated and will be removed in a future version. Convert inf values to NaN before operating instead.\n",
      "  with pd.option_context('mode.use_inf_as_na', True):\n"
     ]
    },
    {
     "data": {
      "image/png": "[encoded data removed]",
      "text/plain": [
       "<Figure size 640x480 with 1 Axes>"
      ]
     },
     "metadata": {},
     "output_type": "display_data"
    }
   ],
   "source": [
    "sns.histplot(data['age'], kde=True, bins=10, color='skyblue')\n",
    "plt.title('Age Distribution of Students')\n",
    "plt.xlabel('Age')\n",
    "plt.ylabel('Frequency')\n",
    "plt.show()"
   ]
  },
  {
   "cell_type": "markdown",
   "id": "82f7e8cf",
   "metadata": {
    "papermill": {
     "duration": 0.022819,
     "end_time": "2024-12-11T12:03:24.186622",
     "exception": false,
     "start_time": "2024-12-11T12:03:24.163803",
     "status": "completed"
    },
    "tags": []
   },
   "source": [
    "> Average Score in each Subject"
   ]
  },
  {
   "cell_type": "code",
   "execution_count": 16,
   "id": "e8372f68",
   "metadata": {
    "execution": {
     "iopub.execute_input": "2024-12-11T12:03:24.234270Z",
     "iopub.status.busy": "2024-12-11T12:03:24.233868Z",
     "iopub.status.idle": "2024-12-11T12:03:24.590653Z",
     "shell.execute_reply": "2024-12-11T12:03:24.589013Z"
    },
    "papermill": {
     "duration": 0.382817,
     "end_time": "2024-12-11T12:03:24.592498",
     "exception": true,
     "start_time": "2024-12-11T12:03:24.209681",
     "status": "failed"
    },
    "tags": []
   },
   "outputs": [
    {
     "ename": "NameError",
     "evalue": "name 'group_scores' is not defined",
     "output_type": "error",
     "traceback": [
      "\u001b[0;31m---------------------------------------------------------------------------\u001b[0m",
      "\u001b[0;31mNameError\u001b[0m                                 Traceback (most recent call last)",
      "Cell \u001b[0;32mIn[16], line 3\u001b[0m\n\u001b[1;32m      1\u001b[0m average_scores \u001b[38;5;241m=\u001b[39m data\u001b[38;5;241m.\u001b[39mgroupby(\u001b[38;5;124m'\u001b[39m\u001b[38;5;124mstu_group\u001b[39m\u001b[38;5;124m'\u001b[39m)[[\u001b[38;5;124m'\u001b[39m\u001b[38;5;124menglish\u001b[39m\u001b[38;5;124m'\u001b[39m, \u001b[38;5;124m'\u001b[39m\u001b[38;5;124mmath\u001b[39m\u001b[38;5;124m'\u001b[39m, \u001b[38;5;124m'\u001b[39m\u001b[38;5;124mscience\u001b[39m\u001b[38;5;124m'\u001b[39m, \u001b[38;5;124m'\u001b[39m\u001b[38;5;124msocial_science\u001b[39m\u001b[38;5;124m'\u001b[39m, \u001b[38;5;124m'\u001b[39m\u001b[38;5;124mart_culture\u001b[39m\u001b[38;5;124m'\u001b[39m]]\u001b[38;5;241m.\u001b[39mmean()\n\u001b[0;32m----> 3\u001b[0m \u001b[43mgroup_scores\u001b[49m\u001b[38;5;241m.\u001b[39mT\u001b[38;5;241m.\u001b[39mplot(kind\u001b[38;5;241m=\u001b[39m\u001b[38;5;124m'\u001b[39m\u001b[38;5;124mbar\u001b[39m\u001b[38;5;124m'\u001b[39m, figsize\u001b[38;5;241m=\u001b[39m(\u001b[38;5;241m10\u001b[39m, \u001b[38;5;241m6\u001b[39m))\n\u001b[1;32m      4\u001b[0m plt\u001b[38;5;241m.\u001b[39mtitle(\u001b[38;5;124m'\u001b[39m\u001b[38;5;124mAverage Scores by Subject\u001b[39m\u001b[38;5;124m'\u001b[39m)\n\u001b[1;32m      5\u001b[0m plt\u001b[38;5;241m.\u001b[39mxlabel(\u001b[38;5;124m'\u001b[39m\u001b[38;5;124mSubjects\u001b[39m\u001b[38;5;124m'\u001b[39m)\n",
      "\u001b[0;31mNameError\u001b[0m: name 'group_scores' is not defined"
     ]
    }
   ],
   "source": [
    "average_scores = data.groupby('stu_group')[['english', 'math', 'science', 'social_science', 'art_culture']].mean()\n",
    "\n",
    "group_scores.T.plot(kind='bar', figsize=(10, 6))\n",
    "plt.title('Average Scores by Subject')\n",
    "plt.xlabel('Subjects')\n",
    "plt.ylabel('Average Score')\n",
    "\n",
    "plt.show()"
   ]
  },
  {
   "cell_type": "markdown",
   "id": "23a66b70",
   "metadata": {
    "papermill": {
     "duration": null,
     "end_time": null,
     "exception": null,
     "start_time": null,
     "status": "pending"
    },
    "tags": []
   },
   "source": [
    "> academic performance vary by student group (Science, Commerce, Arts)"
   ]
  },
  {
   "cell_type": "code",
   "execution_count": null,
   "id": "62dc6652",
   "metadata": {
    "execution": {
     "iopub.execute_input": "2024-12-11T03:27:47.829654Z",
     "iopub.status.busy": "2024-12-11T03:27:47.829219Z",
     "iopub.status.idle": "2024-12-11T03:27:48.158938Z",
     "shell.execute_reply": "2024-12-11T03:27:48.157773Z",
     "shell.execute_reply.started": "2024-12-11T03:27:47.829618Z"
    },
    "papermill": {
     "duration": null,
     "end_time": null,
     "exception": null,
     "start_time": null,
     "status": "pending"
    },
    "tags": []
   },
   "outputs": [],
   "source": [
    "group_scores = data.groupby('stu_group')[['english', 'math', 'science', 'social_science', 'art_culture']].mean()\n",
    "\n",
    "# Plot subject-wise averages\n",
    "group_scores.T.plot(kind='bar', figsize=(10, 6))\n",
    "plt.title('Subject Performance by Student Group')\n",
    "plt.xlabel('Subjects')\n",
    "plt.ylabel('Average Score')\n",
    "plt.legend(title='Student Group')\n",
    "plt.show()"
   ]
  },
  {
   "cell_type": "markdown",
   "id": "a7e48416",
   "metadata": {
    "papermill": {
     "duration": null,
     "end_time": null,
     "exception": null,
     "start_time": null,
     "status": "pending"
    },
    "tags": []
   },
   "source": [
    "> parental education level affect student performance"
   ]
  },
  {
   "cell_type": "code",
   "execution_count": null,
   "id": "5e1a93d5",
   "metadata": {
    "execution": {
     "iopub.execute_input": "2024-12-11T03:29:36.245735Z",
     "iopub.status.busy": "2024-12-11T03:29:36.245316Z",
     "iopub.status.idle": "2024-12-11T03:29:36.602090Z",
     "shell.execute_reply": "2024-12-11T03:29:36.601055Z",
     "shell.execute_reply.started": "2024-12-11T03:29:36.245700Z"
    },
    "papermill": {
     "duration": null,
     "end_time": null,
     "exception": null,
     "start_time": null,
     "status": "pending"
    },
    "tags": []
   },
   "outputs": [],
   "source": [
    "plt.figure(figsize=(12, 8))\n",
    "\n",
    "# Create the boxplot\n",
    "sns.boxplot(data=data, x='mother_education', y='math', palette='Set3')\n",
    "\n",
    "\n",
    "plt.title('Math Scores by Mother\\'s Education Level', fontsize=16)\n",
    "plt.xlabel('Mother\\'s Education Level', fontsize=14)\n",
    "plt.ylabel('Math Score', fontsize=14)\n",
    "plt.xticks(fontsize=12, rotation=45)\n",
    "plt.yticks(fontsize=12)\n",
    "# Show the plot\n",
    "plt.show()"
   ]
  },
  {
   "cell_type": "code",
   "execution_count": null,
   "id": "fb748117",
   "metadata": {
    "execution": {
     "iopub.execute_input": "2024-12-11T03:31:27.892049Z",
     "iopub.status.busy": "2024-12-11T03:31:27.891607Z",
     "iopub.status.idle": "2024-12-11T03:31:28.340573Z",
     "shell.execute_reply": "2024-12-11T03:31:28.339097Z",
     "shell.execute_reply.started": "2024-12-11T03:31:27.891990Z"
    },
    "papermill": {
     "duration": null,
     "end_time": null,
     "exception": null,
     "start_time": null,
     "status": "pending"
    },
    "tags": []
   },
   "outputs": [],
   "source": [
    "plt.figure(figsize=(12, 8)) \n",
    "sns.boxplot(data=data, x='father_education', y='math', palette='Set2')\n",
    "plt.title('Math Scores by Father\\'s Education Level', fontsize=16)\n",
    "plt.xlabel('Father\\'s Education Level', fontsize=14)\n",
    "plt.ylabel('Math Score', fontsize=14)\n",
    "plt.xticks(fontsize=12, rotation = 45)\n",
    "plt.yticks(fontsize=12)\n",
    "plt.show()"
   ]
  },
  {
   "cell_type": "markdown",
   "id": "a4b4037d",
   "metadata": {
    "papermill": {
     "duration": null,
     "end_time": null,
     "exception": null,
     "start_time": null,
     "status": "pending"
    },
    "tags": []
   },
   "source": [
    "> extracurricular activity participation affect performance"
   ]
  },
  {
   "cell_type": "code",
   "execution_count": null,
   "id": "3c5b03f0",
   "metadata": {
    "execution": {
     "iopub.execute_input": "2024-12-11T03:31:45.880743Z",
     "iopub.status.busy": "2024-12-11T03:31:45.880303Z",
     "iopub.status.idle": "2024-12-11T03:31:46.188287Z",
     "shell.execute_reply": "2024-12-11T03:31:46.187191Z",
     "shell.execute_reply.started": "2024-12-11T03:31:45.880706Z"
    },
    "papermill": {
     "duration": null,
     "end_time": null,
     "exception": null,
     "start_time": null,
     "status": "pending"
    },
    "tags": []
   },
   "outputs": [],
   "source": [
    "extracurricular_performance = data.groupby('extra_curricular_activities')[['english', 'math', 'science']].mean()\n",
    "\n",
    "extracurricular_performance.T.plot(kind='bar', figsize=(10, 6), color=['skyblue', 'salmon'])\n",
    "plt.title('Performance vs. Extracurricular Activities')\n",
    "plt.xlabel('Subjects')\n",
    "plt.ylabel('Average Score')\n",
    "plt.legend(title='Participation')\n",
    "plt.show()"
   ]
  },
  {
   "cell_type": "markdown",
   "id": "aac6daab",
   "metadata": {
    "papermill": {
     "duration": null,
     "end_time": null,
     "exception": null,
     "start_time": null,
     "status": "pending"
    },
    "tags": []
   },
   "source": [
    "> attendance relate to performance"
   ]
  },
  {
   "cell_type": "code",
   "execution_count": null,
   "id": "fcf27bda",
   "metadata": {
    "execution": {
     "iopub.execute_input": "2024-12-11T03:31:54.232789Z",
     "iopub.status.busy": "2024-12-11T03:31:54.232391Z",
     "iopub.status.idle": "2024-12-11T03:31:54.893269Z",
     "shell.execute_reply": "2024-12-11T03:31:54.891975Z",
     "shell.execute_reply.started": "2024-12-11T03:31:54.232754Z"
    },
    "papermill": {
     "duration": null,
     "end_time": null,
     "exception": null,
     "start_time": null,
     "status": "pending"
    },
    "tags": []
   },
   "outputs": [],
   "source": [
    "sns.scatterplot(data=data, x='attendance', y='science', hue='stu_group', palette='coolwarm')\n",
    "plt.title('Attendance vs Science Score')\n",
    "plt.xlabel('Attendance (%)')\n",
    "plt.ylabel('Science Score')\n",
    "plt.show()"
   ]
  },
  {
   "cell_type": "markdown",
   "id": "908c8b21",
   "metadata": {
    "papermill": {
     "duration": null,
     "end_time": null,
     "exception": null,
     "start_time": null,
     "status": "pending"
    },
    "tags": []
   },
   "source": [
    "> Internet access affect academic performance"
   ]
  },
  {
   "cell_type": "code",
   "execution_count": null,
   "id": "12c2a00f",
   "metadata": {
    "execution": {
     "iopub.execute_input": "2024-12-11T03:33:07.828350Z",
     "iopub.status.busy": "2024-12-11T03:33:07.827942Z",
     "iopub.status.idle": "2024-12-11T03:33:08.088656Z",
     "shell.execute_reply": "2024-12-11T03:33:08.087283Z",
     "shell.execute_reply.started": "2024-12-11T03:33:07.828319Z"
    },
    "papermill": {
     "duration": null,
     "end_time": null,
     "exception": null,
     "start_time": null,
     "status": "pending"
    },
    "tags": []
   },
   "outputs": [],
   "source": [
    "sns.boxplot(data=data, x='internet_access', y='math', palette='pastel')\n",
    "plt.title('Math Scores by Internet Access')\n",
    "plt.xlabel('Internet Access')\n",
    "plt.ylabel('Math Score')\n",
    "plt.show()\n"
   ]
  },
  {
   "cell_type": "markdown",
   "id": "fabc8368",
   "metadata": {
    "papermill": {
     "duration": null,
     "end_time": null,
     "exception": null,
     "start_time": null,
     "status": "pending"
    },
    "tags": []
   },
   "source": [
    "> student group shows the most consistent performance"
   ]
  },
  {
   "cell_type": "code",
   "execution_count": null,
   "id": "f425650d",
   "metadata": {
    "execution": {
     "iopub.execute_input": "2024-12-11T03:33:51.110127Z",
     "iopub.status.busy": "2024-12-11T03:33:51.109689Z",
     "iopub.status.idle": "2024-12-11T03:33:51.461336Z",
     "shell.execute_reply": "2024-12-11T03:33:51.460011Z",
     "shell.execute_reply.started": "2024-12-11T03:33:51.110090Z"
    },
    "papermill": {
     "duration": null,
     "end_time": null,
     "exception": null,
     "start_time": null,
     "status": "pending"
    },
    "tags": []
   },
   "outputs": [],
   "source": [
    "# Calculate standard deviation of scores for each group\n",
    "group_std = data.groupby('stu_group')[['english', 'math', 'science', 'social_science', 'art_culture']].std()\n",
    "\n",
    "group_std.T.plot(kind='bar', figsize=(10, 6), color=['gold', 'lightgreen', 'lightcoral'])\n",
    "plt.title('Consistency of Performance by Group')\n",
    "plt.xlabel('Subjects')\n",
    "plt.ylabel('Standard Deviation (Lower is Better)')\n",
    "plt.legend(title='Student Group')\n",
    "plt.show()\n"
   ]
  },
  {
   "cell_type": "markdown",
   "id": "b270790c",
   "metadata": {
    "papermill": {
     "duration": null,
     "end_time": null,
     "exception": null,
     "start_time": null,
     "status": "pending"
    },
    "tags": []
   },
   "source": [
    "> Gender ration in the dataset"
   ]
  },
  {
   "cell_type": "code",
   "execution_count": null,
   "id": "80f6372d",
   "metadata": {
    "execution": {
     "iopub.execute_input": "2024-12-11T03:35:14.601371Z",
     "iopub.status.busy": "2024-12-11T03:35:14.600918Z",
     "iopub.status.idle": "2024-12-11T03:35:14.742277Z",
     "shell.execute_reply": "2024-12-11T03:35:14.740750Z",
     "shell.execute_reply.started": "2024-12-11T03:35:14.601336Z"
    },
    "papermill": {
     "duration": null,
     "end_time": null,
     "exception": null,
     "start_time": null,
     "status": "pending"
    },
    "tags": []
   },
   "outputs": [],
   "source": [
    "size = data['gender'].value_counts()\n",
    "labels = ['Female', 'Male']\n",
    "colors = ['lightcoral', 'lightyellow']  \n",
    "\n",
    "plt.figure(figsize=(6, 4)) \n",
    "plt.pie(size, colors=colors, labels=labels, autopct='%1.2f%%', startangle=90, textprops={'fontsize': 12})\n",
    "plt.title('Gender Ratio', fontweight='bold', fontsize=14)\n",
    "plt.show()\n",
    "print(size)"
   ]
  },
  {
   "cell_type": "markdown",
   "id": "9693fff5",
   "metadata": {
    "papermill": {
     "duration": null,
     "end_time": null,
     "exception": null,
     "start_time": null,
     "status": "pending"
    },
    "tags": []
   },
   "source": [
    "> Group ration in the dataset"
   ]
  },
  {
   "cell_type": "code",
   "execution_count": null,
   "id": "3b7ad7bd",
   "metadata": {
    "execution": {
     "iopub.execute_input": "2024-12-11T03:36:04.559700Z",
     "iopub.status.busy": "2024-12-11T03:36:04.559274Z",
     "iopub.status.idle": "2024-12-11T03:36:04.693358Z",
     "shell.execute_reply": "2024-12-11T03:36:04.692062Z",
     "shell.execute_reply.started": "2024-12-11T03:36:04.559660Z"
    },
    "papermill": {
     "duration": null,
     "end_time": null,
     "exception": null,
     "start_time": null,
     "status": "pending"
    },
    "tags": []
   },
   "outputs": [],
   "source": [
    "size = data['stu_group'].value_counts()\n",
    "labels = ['Science', 'Commerce', 'Arts']\n",
    "colors = ['lightpink', 'lightcyan', 'lightgoldenrodyellow']\n",
    "plt.figure(figsize=(4, 4))\n",
    "plt.pie(size, colors=colors, labels=labels, autopct='%1.2f%%', startangle=90, textprops={'fontsize': 12})\n",
    "plt.title('Student Group Distribution', fontweight='bold', fontsize=14)\n",
    "plt.show()\n",
    "\n",
    "print(size)"
   ]
  },
  {
   "cell_type": "markdown",
   "id": "f648e5dd",
   "metadata": {
    "papermill": {
     "duration": null,
     "end_time": null,
     "exception": null,
     "start_time": null,
     "status": "pending"
    },
    "tags": []
   },
   "source": [
    "> Score distributions"
   ]
  },
  {
   "cell_type": "code",
   "execution_count": null,
   "id": "fcbc2a94",
   "metadata": {
    "execution": {
     "iopub.execute_input": "2024-12-11T03:39:38.764866Z",
     "iopub.status.busy": "2024-12-11T03:39:38.764430Z",
     "iopub.status.idle": "2024-12-11T03:39:40.603403Z",
     "shell.execute_reply": "2024-12-11T03:39:40.602230Z",
     "shell.execute_reply.started": "2024-12-11T03:39:38.764828Z"
    },
    "papermill": {
     "duration": null,
     "end_time": null,
     "exception": null,
     "start_time": null,
     "status": "pending"
    },
    "tags": []
   },
   "outputs": [],
   "source": [
    "fig, ax = plt.subplots(1, 5, figsize=(25, 8))\n",
    "fig.subplots_adjust(wspace=0.4)\n",
    "\n",
    "# Plot score distributions\n",
    "ax[0].set_title('English', fontweight='bold', fontsize=14)\n",
    "sns.histplot(data=data, x='english', bins=30, kde=True, color='blue', ax=ax[0])\n",
    "\n",
    "ax[1].set_title('Math', fontweight='bold', fontsize=14)\n",
    "sns.histplot(data=data, x='math', bins=30, kde=True, color='red', ax=ax[1])\n",
    "\n",
    "ax[2].set_title('Science', fontweight='bold', fontsize=14)\n",
    "sns.histplot(data=data, x='science', bins=30, kde=True, color='green', ax=ax[2])\n",
    "\n",
    "ax[3].set_title('Social Science', fontweight='bold', fontsize=14)\n",
    "sns.histplot(data=data, x='social_science', bins=30, kde=True, color='purple', ax=ax[3])\n",
    "\n",
    "ax[4].set_title('Art & Culture', fontweight='bold', fontsize=14)\n",
    "sns.histplot(data=data, x='art_culture', bins=30, kde=True, color='orange', ax=ax[4])\n",
    "\n",
    "plt.tight_layout()\n",
    "plt.show()"
   ]
  },
  {
   "cell_type": "markdown",
   "id": "291bba40",
   "metadata": {
    "papermill": {
     "duration": null,
     "end_time": null,
     "exception": null,
     "start_time": null,
     "status": "pending"
    },
    "tags": []
   },
   "source": [
    "> Sum the scores for each subject in the 'Science' group"
   ]
  },
  {
   "cell_type": "code",
   "execution_count": null,
   "id": "bf7abf87",
   "metadata": {
    "execution": {
     "iopub.execute_input": "2024-12-11T03:40:50.267289Z",
     "iopub.status.busy": "2024-12-11T03:40:50.266892Z",
     "iopub.status.idle": "2024-12-11T03:40:50.448100Z",
     "shell.execute_reply": "2024-12-11T03:40:50.446221Z",
     "shell.execute_reply.started": "2024-12-11T03:40:50.267254Z"
    },
    "papermill": {
     "duration": null,
     "end_time": null,
     "exception": null,
     "start_time": null,
     "status": "pending"
    },
    "tags": []
   },
   "outputs": [],
   "source": [
    "science_group = data[data['stu_group'] == 'science']\n",
    "\n",
    "\n",
    "total_scores = {\n",
    "    'English': science_group['english'].sum(),\n",
    "    'Math': science_group['math'].sum(),\n",
    "    'Science': science_group['science'].sum(),\n",
    "    'Social Science': science_group['social_science'].sum(),\n",
    "    'Art and Culture': science_group['art_culture'].sum()\n",
    "}\n",
    "\n",
    "labels = list(total_scores.keys())\n",
    "sizes = list(total_scores.values())\n",
    "colors = ['lightblue', 'lightcoral', 'lightgreen', 'thistle', 'peachpuff']\n",
    "\n",
    "plt.figure(figsize=(6, 6))\n",
    "plt.pie(sizes, labels=labels, colors=colors, autopct='%1.1f%%', startangle=140)\n",
    "plt.title('Total Score Distribution for Science Group Across Subjects', fontweight='bold')\n",
    "plt.show()"
   ]
  },
  {
   "cell_type": "markdown",
   "id": "c23db1a0",
   "metadata": {
    "papermill": {
     "duration": null,
     "end_time": null,
     "exception": null,
     "start_time": null,
     "status": "pending"
    },
    "tags": []
   },
   "source": [
    "> Sum the scores for each subject in the 'Commerce' group"
   ]
  },
  {
   "cell_type": "code",
   "execution_count": null,
   "id": "661c5eda",
   "metadata": {
    "execution": {
     "iopub.execute_input": "2024-12-11T03:41:41.891488Z",
     "iopub.status.busy": "2024-12-11T03:41:41.891108Z",
     "iopub.status.idle": "2024-12-11T03:41:42.070496Z",
     "shell.execute_reply": "2024-12-11T03:41:42.069120Z",
     "shell.execute_reply.started": "2024-12-11T03:41:41.891456Z"
    },
    "papermill": {
     "duration": null,
     "end_time": null,
     "exception": null,
     "start_time": null,
     "status": "pending"
    },
    "tags": []
   },
   "outputs": [],
   "source": [
    "commerce_group = data[data['stu_group'] == 'commerce']\n",
    "\n",
    "total_scores_commerce = {\n",
    "    'English': commerce_group['english'].sum(),\n",
    "    'Math': commerce_group['math'].sum(),\n",
    "    'Science': commerce_group['science'].sum(),\n",
    "    'Social Science': commerce_group['social_science'].sum(),\n",
    "    'Art and Culture': commerce_group['art_culture'].sum()\n",
    "}\n",
    "\n",
    "labels_commerce = list(total_scores_commerce.keys())\n",
    "sizes_commerce = list(total_scores_commerce.values())\n",
    "colors = ['lightblue', 'lightcoral', 'lightgreen', 'thistle', 'peachpuff'] \n",
    "\n",
    "plt.figure(figsize=(6, 6))\n",
    "plt.pie(sizes_commerce, labels=labels_commerce, colors=colors, autopct='%1.1f%%', startangle=140)\n",
    "plt.title('Total Score Distribution for Commerce Group Across Subjects', fontweight='bold')\n",
    "plt.show()\n"
   ]
  },
  {
   "cell_type": "markdown",
   "id": "d4d64f32",
   "metadata": {
    "papermill": {
     "duration": null,
     "end_time": null,
     "exception": null,
     "start_time": null,
     "status": "pending"
    },
    "tags": []
   },
   "source": [
    "> Sum the scores for each subject in the 'Arts' group"
   ]
  },
  {
   "cell_type": "code",
   "execution_count": null,
   "id": "326c10d8",
   "metadata": {
    "execution": {
     "iopub.execute_input": "2024-12-11T03:42:19.582245Z",
     "iopub.status.busy": "2024-12-11T03:42:19.581800Z",
     "iopub.status.idle": "2024-12-11T03:42:19.723085Z",
     "shell.execute_reply": "2024-12-11T03:42:19.722128Z",
     "shell.execute_reply.started": "2024-12-11T03:42:19.582207Z"
    },
    "papermill": {
     "duration": null,
     "end_time": null,
     "exception": null,
     "start_time": null,
     "status": "pending"
    },
    "tags": []
   },
   "outputs": [],
   "source": [
    "arts_group = data[data['stu_group'] == 'arts']\n",
    "\n",
    "total_scores_arts = {\n",
    "    'English': arts_group['english'].sum(),\n",
    "    'Math': arts_group['math'].sum(),\n",
    "    'Science': arts_group['science'].sum(),\n",
    "    'Social Science': arts_group['social_science'].sum(),\n",
    "    'Art and Culture': arts_group['art_culture'].sum()\n",
    "}\n",
    "\n",
    "labels_arts = list(total_scores_arts.keys())\n",
    "sizes_arts = list(total_scores_arts.values())\n",
    "colors = ['lightblue', 'lightcoral', 'lightgreen', 'thistle', 'peachpuff'] \n",
    "\n",
    "plt.figure(figsize=(6, 6))\n",
    "plt.pie(sizes_arts, labels=labels_arts, colors=colors, autopct='%1.1f%%', startangle=140)\n",
    "plt.title('Total Score Distribution for Arts Group Across Subjects', fontweight='bold')\n",
    "plt.show()"
   ]
  },
  {
   "cell_type": "markdown",
   "id": "65f622f8",
   "metadata": {
    "papermill": {
     "duration": null,
     "end_time": null,
     "exception": null,
     "start_time": null,
     "status": "pending"
    },
    "tags": []
   },
   "source": [
    "> Average studytime for each group"
   ]
  },
  {
   "cell_type": "code",
   "execution_count": null,
   "id": "7fd97add",
   "metadata": {
    "execution": {
     "iopub.execute_input": "2024-12-11T03:44:32.516190Z",
     "iopub.status.busy": "2024-12-11T03:44:32.515750Z",
     "iopub.status.idle": "2024-12-11T03:44:32.957248Z",
     "shell.execute_reply": "2024-12-11T03:44:32.955847Z",
     "shell.execute_reply.started": "2024-12-11T03:44:32.516153Z"
    },
    "papermill": {
     "duration": null,
     "end_time": null,
     "exception": null,
     "start_time": null,
     "status": "pending"
    },
    "tags": []
   },
   "outputs": [],
   "source": [
    "import matplotlib.pyplot as plt\n",
    "\n",
    "\n",
    "science_group = data[data['stu_group'] == 'science']\n",
    "commerce_group = data[data['stu_group'] == 'commerce']\n",
    "arts_group = data[data['stu_group'] == 'arts']\n",
    "\n",
    "average_studytime = data.groupby('stu_group')['studytime'].mean()\n",
    "\n",
    "labels = average_studytime.index \n",
    "sizes = average_studytime.values  \n",
    "colors = ['lightgreen', 'lightcoral', 'lightblue']  \n",
    "\n",
    "fig, ax = plt.subplots(1, 2, figsize=(14, 6))  \n",
    "\n",
    "ax[0].bar(average_studytime.index, average_studytime.values, color=['lightgreen', 'lightcoral', 'lightblue'])\n",
    "ax[0].set_xlabel('Student Group', fontweight='bold')\n",
    "ax[0].set_ylabel('Average Study Time', fontweight='bold')\n",
    "ax[0].set_title('Average Study Time for Science, Commerce, and Arts Groups', fontweight='bold')\n",
    "\n",
    "# Plot a pie chart in the second subplot for average studytime distribution\n",
    "ax[1].pie(sizes, labels=labels, colors=colors, autopct='%1.1f%%', startangle=90, textprops={'fontweight': 'bold'})\n",
    "\n",
    "plt.tight_layout()\n",
    "plt.show()"
   ]
  },
  {
   "cell_type": "markdown",
   "id": "2fbb4cba",
   "metadata": {
    "papermill": {
     "duration": null,
     "end_time": null,
     "exception": null,
     "start_time": null,
     "status": "pending"
    },
    "tags": []
   },
   "source": [
    "> Distribution of Student Groups Across School Types"
   ]
  },
  {
   "cell_type": "code",
   "execution_count": null,
   "id": "8b68027b",
   "metadata": {
    "execution": {
     "iopub.execute_input": "2024-12-11T03:48:58.290741Z",
     "iopub.status.busy": "2024-12-11T03:48:58.290372Z",
     "iopub.status.idle": "2024-12-11T03:48:58.679378Z",
     "shell.execute_reply": "2024-12-11T03:48:58.678274Z",
     "shell.execute_reply.started": "2024-12-11T03:48:58.290710Z"
    },
    "papermill": {
     "duration": null,
     "end_time": null,
     "exception": null,
     "start_time": null,
     "status": "pending"
    },
    "tags": []
   },
   "outputs": [],
   "source": [
    "#     school_type=  ['Private', 'Govt', 'Semi_Govt']\n",
    "\n",
    "# Aggregate data to get the count of each student group per school type\n",
    "group_school_distribution = data.groupby(['school_type', 'stu_group']).size().unstack(fill_value=0)\n",
    "\n",
    "light_colors = ['#ADD8E6', '#FFB6C1', '#98FB98']\n",
    "\n",
    "group_school_distribution.plot(kind='bar', figsize=(6, 6), color=light_colors, stacked=False)\n",
    "\n",
    "plt.xlabel('School Type', fontweight='bold')\n",
    "plt.ylabel('Number of Students', fontweight='bold')\n",
    "plt.title('Distribution of Student Groups Across School Types', fontweight='bold')\n",
    "plt.legend(title='Student Group', loc='upper left') \n",
    "plt.xticks(rotation=45)\n",
    "\n",
    "plt.tight_layout()\n",
    "plt.show()"
   ]
  },
  {
   "cell_type": "markdown",
   "id": "82021e1d",
   "metadata": {
    "papermill": {
     "duration": null,
     "end_time": null,
     "exception": null,
     "start_time": null,
     "status": "pending"
    },
    "tags": []
   },
   "source": [
    "> Average Attendance for Science, Commerce, and Arts Groups"
   ]
  },
  {
   "cell_type": "code",
   "execution_count": null,
   "id": "b97e52a3",
   "metadata": {
    "execution": {
     "iopub.execute_input": "2024-12-11T03:54:18.174732Z",
     "iopub.status.busy": "2024-12-11T03:54:18.174313Z",
     "iopub.status.idle": "2024-12-11T03:54:18.503109Z",
     "shell.execute_reply": "2024-12-11T03:54:18.501927Z",
     "shell.execute_reply.started": "2024-12-11T03:54:18.174685Z"
    },
    "papermill": {
     "duration": null,
     "end_time": null,
     "exception": null,
     "start_time": null,
     "status": "pending"
    },
    "tags": []
   },
   "outputs": [],
   "source": [
    "import matplotlib.pyplot as plt\n",
    "\n",
    "average_attendance = data.groupby('stu_group')['attendance'].mean()\n",
    "\n",
    "plt.figure(figsize=(6, 6))\n",
    "bars = plt.bar(average_attendance.index, average_attendance.values, color=['lightblue', 'lightcoral', 'lightgreen'])\n",
    "\n",
    "for bar in bars:\n",
    "    yval = bar.get_height()\n",
    "    plt.text(bar.get_x() + bar.get_width() / 2, yval, round(yval, 2),\n",
    "             ha='center', va='bottom', fontsize=12)\n",
    "\n",
    "# Customize the plot\n",
    "plt.xlabel('Student Group', fontweight='bold')\n",
    "plt.ylabel('Average Attendance', fontweight='bold')\n",
    "plt.title('Average Attendance for Science, Commerce, and Arts Groups', fontweight='bold')\n",
    "plt.xticks(rotation=45, fontsize=12)  \n",
    "\n",
    "plt.tight_layout()\n",
    "plt.show()\n"
   ]
  },
  {
   "cell_type": "markdown",
   "id": "e3b4fb8c",
   "metadata": {
    "papermill": {
     "duration": null,
     "end_time": null,
     "exception": null,
     "start_time": null,
     "status": "pending"
    },
    "tags": []
   },
   "source": [
    "<div style=\"background-color:#00008B; padding: 20px; border-radius: 255px; font-weight: bold; border: 3px solid #00008B; text-align: center;\">\n",
    "    <h1 style=\"font-size: 30px; color: white; margin: 0;\">5 | Data Preproceesing</h1>\n",
    "</div>\n"
   ]
  },
  {
   "cell_type": "markdown",
   "id": "5347119c",
   "metadata": {
    "papermill": {
     "duration": null,
     "end_time": null,
     "exception": null,
     "start_time": null,
     "status": "pending"
    },
    "tags": []
   },
   "source": [
    "> Handle null value"
   ]
  },
  {
   "cell_type": "code",
   "execution_count": null,
   "id": "6ac1de6e",
   "metadata": {
    "execution": {
     "iopub.execute_input": "2024-12-11T03:12:34.950626Z",
     "iopub.status.busy": "2024-12-11T03:12:34.949812Z",
     "iopub.status.idle": "2024-12-11T03:12:34.972376Z",
     "shell.execute_reply": "2024-12-11T03:12:34.971058Z",
     "shell.execute_reply.started": "2024-12-11T03:12:34.950587Z"
    },
    "papermill": {
     "duration": null,
     "end_time": null,
     "exception": null,
     "start_time": null,
     "status": "pending"
    },
    "tags": []
   },
   "outputs": [],
   "source": [
    "import warnings\n",
    "warnings.filterwarnings(\"ignore\", category=FutureWarning)\n",
    "\n",
    "data['mother_education'].fillna('Non_Educated', inplace=True)\n",
    "data['father_education'].fillna('Non_Educated', inplace=True)\n",
    "\n",
    "data['location'].fillna('Urban', inplace=True)\n",
    "data.isnull().sum()"
   ]
  },
  {
   "cell_type": "markdown",
   "id": "6f0883f6",
   "metadata": {
    "papermill": {
     "duration": null,
     "end_time": null,
     "exception": null,
     "start_time": null,
     "status": "pending"
    },
    "tags": []
   },
   "source": [
    "> Categorical data convert into numeric"
   ]
  },
  {
   "cell_type": "code",
   "execution_count": null,
   "id": "842490a8",
   "metadata": {
    "execution": {
     "iopub.execute_input": "2024-12-11T03:56:43.726887Z",
     "iopub.status.busy": "2024-12-11T03:56:43.726470Z",
     "iopub.status.idle": "2024-12-11T03:56:43.763401Z",
     "shell.execute_reply": "2024-12-11T03:56:43.762088Z",
     "shell.execute_reply.started": "2024-12-11T03:56:43.726851Z"
    },
    "papermill": {
     "duration": null,
     "end_time": null,
     "exception": null,
     "start_time": null,
     "status": "pending"
    },
    "tags": []
   },
   "outputs": [],
   "source": [
    "categorical_cols = [\n",
    "    \"gender\", \"location\", \"mother_education\", \"father_education\",\n",
    "    \"mother_job\", \"father_job\", \"guardian\", \"parental_involvement\",\n",
    "    \"internet_access\", \"tutoring\", \"school_type\",\"extra_curricular_activities\", \"stu_group\"\n",
    "]\n",
    "\n",
    "le = LabelEncoder()\n",
    "for col in categorical_cols:\n",
    "    data[col] = le.fit_transform(data[col])"
   ]
  },
  {
   "cell_type": "code",
   "execution_count": null,
   "id": "b960969d",
   "metadata": {
    "execution": {
     "iopub.execute_input": "2024-12-11T03:56:45.510674Z",
     "iopub.status.busy": "2024-12-11T03:56:45.510234Z",
     "iopub.status.idle": "2024-12-11T03:56:45.520562Z",
     "shell.execute_reply": "2024-12-11T03:56:45.519113Z",
     "shell.execute_reply.started": "2024-12-11T03:56:45.510621Z"
    },
    "papermill": {
     "duration": null,
     "end_time": null,
     "exception": null,
     "start_time": null,
     "status": "pending"
    },
    "tags": []
   },
   "outputs": [],
   "source": [
    "class_count = data[\"stu_group\"].value_counts()\n",
    "\n",
    "class_count"
   ]
  },
  {
   "cell_type": "markdown",
   "id": "67a67e4c",
   "metadata": {
    "papermill": {
     "duration": null,
     "end_time": null,
     "exception": null,
     "start_time": null,
     "status": "pending"
    },
    "tags": []
   },
   "source": [
    "<div style=\"background-color:#00008B; padding: 20px; border-radius: 255px; font-weight: bold; border: 3px solid #00008B; text-align: center;\">\n",
    "    <h1 style=\"font-size: 30px; color: white; margin: 0;\">6 | Data Spliting</h1>\n",
    "</div>\n"
   ]
  },
  {
   "cell_type": "code",
   "execution_count": null,
   "id": "5f7e924d",
   "metadata": {
    "execution": {
     "iopub.execute_input": "2024-12-11T03:57:01.350623Z",
     "iopub.status.busy": "2024-12-11T03:57:01.350246Z",
     "iopub.status.idle": "2024-12-11T03:57:01.358602Z",
     "shell.execute_reply": "2024-12-11T03:57:01.357561Z",
     "shell.execute_reply.started": "2024-12-11T03:57:01.350589Z"
    },
    "papermill": {
     "duration": null,
     "end_time": null,
     "exception": null,
     "start_time": null,
     "status": "pending"
    },
    "tags": []
   },
   "outputs": [],
   "source": [
    "X=data.drop(labels=['stu_group','full_name','id'], axis=1)\n",
    "y=data['stu_group']"
   ]
  },
  {
   "cell_type": "code",
   "execution_count": null,
   "id": "8d7db806",
   "metadata": {
    "execution": {
     "iopub.execute_input": "2024-12-11T03:57:07.779642Z",
     "iopub.status.busy": "2024-12-11T03:57:07.779246Z",
     "iopub.status.idle": "2024-12-11T03:57:07.794871Z",
     "shell.execute_reply": "2024-12-11T03:57:07.793465Z",
     "shell.execute_reply.started": "2024-12-11T03:57:07.779608Z"
    },
    "papermill": {
     "duration": null,
     "end_time": null,
     "exception": null,
     "start_time": null,
     "status": "pending"
    },
    "tags": []
   },
   "outputs": [],
   "source": [
    "X_train, X_test, y_train, y_test = train_test_split(X, y, test_size=0.3, random_state=42)"
   ]
  },
  {
   "cell_type": "markdown",
   "id": "c398d367",
   "metadata": {
    "papermill": {
     "duration": null,
     "end_time": null,
     "exception": null,
     "start_time": null,
     "status": "pending"
    },
    "tags": []
   },
   "source": [
    "<div style=\"background-color:#00008B; padding: 20px; border-radius: 255px; font-weight: bold; border: 3px solid #00008B; text-align: center;\">\n",
    "    <h1 style=\"font-size: 30px; color: white; margin: 0;\">7 | Machine Learning Model</h1>\n",
    "</div>\n"
   ]
  },
  {
   "cell_type": "markdown",
   "id": "cc7ba8c1",
   "metadata": {
    "papermill": {
     "duration": null,
     "end_time": null,
     "exception": null,
     "start_time": null,
     "status": "pending"
    },
    "tags": []
   },
   "source": [
    "# **Decision Tree Classifier**"
   ]
  },
  {
   "cell_type": "code",
   "execution_count": null,
   "id": "ca2ba39a",
   "metadata": {
    "execution": {
     "iopub.execute_input": "2024-12-11T04:00:04.214893Z",
     "iopub.status.busy": "2024-12-11T04:00:04.214447Z",
     "iopub.status.idle": "2024-12-11T04:00:04.289215Z",
     "shell.execute_reply": "2024-12-11T04:00:04.288083Z",
     "shell.execute_reply.started": "2024-12-11T04:00:04.214857Z"
    },
    "papermill": {
     "duration": null,
     "end_time": null,
     "exception": null,
     "start_time": null,
     "status": "pending"
    },
    "tags": []
   },
   "outputs": [],
   "source": [
    "# Train the Decision Tree model\n",
    "dt = DecisionTreeClassifier(random_state=42)\n",
    "dt.fit(X_train, y_train)\n",
    "\n",
    "# Make predictions\n",
    "y_pred = dt.predict(X_test)\n",
    "\n",
    "# Calculate accuracy\n",
    "accuracy = accuracy_score(y_test, y_pred)\n",
    "print(f\"Decision Tree Accuracy: {accuracy:.4f}\")\n",
    "\n",
    "# Generate and print classification report\n",
    "report = classification_report(y_test, y_pred)\n",
    "print(\"Classification Report:\\n\", report)\n"
   ]
  },
  {
   "cell_type": "code",
   "execution_count": null,
   "id": "82ed1bca",
   "metadata": {
    "execution": {
     "iopub.execute_input": "2024-12-11T04:00:07.248787Z",
     "iopub.status.busy": "2024-12-11T04:00:07.248409Z",
     "iopub.status.idle": "2024-12-11T04:00:07.273340Z",
     "shell.execute_reply": "2024-12-11T04:00:07.272096Z",
     "shell.execute_reply.started": "2024-12-11T04:00:07.248755Z"
    },
    "papermill": {
     "duration": null,
     "end_time": null,
     "exception": null,
     "start_time": null,
     "status": "pending"
    },
    "tags": []
   },
   "outputs": [],
   "source": [
    "# Confusion Matrix\n",
    "cm = confusion_matrix(y_test, y_pred)\n",
    "print(\"Confusion Matrix:\\n\", cm)\n",
    "\n",
    "# Performance metrics\n",
    "accuracy = accuracy_score(y_test, y_pred)\n",
    "f1 = f1_score(y_test, y_pred, average='weighted')  # 'weighted' for multi-class\n",
    "precision = precision_score(y_test, y_pred, average='weighted')  # 'weighted' for multi-class\n",
    "recall = recall_score(y_test, y_pred, average='weighted')  # 'weighted' for multi-class\n",
    "mae = mean_absolute_error(y_test, y_pred)\n",
    "mse = mean_squared_error(y_test, y_pred)\n",
    "\n",
    "# Creating a DataFrame for better readability\n",
    "metrics = {\n",
    "    'Metric': ['Accuracy', 'F1 Score', 'Precision', 'Recall', 'Mean Absolute Error', 'Mean Squared Error'],\n",
    "    'Score': [accuracy, f1, precision, recall, mae, mse]\n",
    "}\n",
    "\n",
    "# Create a pandas DataFrame\n",
    "metrics_df = pd.DataFrame(metrics)\n",
    "\n",
    "# Display the results in tabular format\n",
    "print(\"\\nPerformance Metrics (Tabular Format):\")\n",
    "print(metrics_df)\n"
   ]
  },
  {
   "cell_type": "markdown",
   "id": "ceb7c0de",
   "metadata": {
    "papermill": {
     "duration": null,
     "end_time": null,
     "exception": null,
     "start_time": null,
     "status": "pending"
    },
    "tags": []
   },
   "source": [
    "# **Random Forest Classifier**"
   ]
  },
  {
   "cell_type": "code",
   "execution_count": null,
   "id": "5a0b800f",
   "metadata": {
    "execution": {
     "iopub.execute_input": "2024-12-11T04:00:17.611883Z",
     "iopub.status.busy": "2024-12-11T04:00:17.610927Z",
     "iopub.status.idle": "2024-12-11T04:00:18.294603Z",
     "shell.execute_reply": "2024-12-11T04:00:18.293465Z",
     "shell.execute_reply.started": "2024-12-11T04:00:17.611845Z"
    },
    "papermill": {
     "duration": null,
     "end_time": null,
     "exception": null,
     "start_time": null,
     "status": "pending"
    },
    "tags": []
   },
   "outputs": [],
   "source": [
    "# Initialize Random Forest Classifier\n",
    "rf = RandomForestClassifier(random_state=42)\n",
    "\n",
    "# Fit the model on training data\n",
    "rf.fit(X_train, y_train)\n",
    "\n",
    "# Evaluate on test data\n",
    "y_pred = rf.predict(X_test)\n",
    "\n",
    "# Accuracy and Classification Report\n",
    "accuracy = accuracy_score(y_test, y_pred)\n",
    "print(f\"Random Forest Classifier Accuracy: {accuracy:.4f}\")\n",
    "\n",
    "# Classification Report\n",
    "report = classification_report(y_test, y_pred)\n",
    "print(\"Classification Report:\\n\", report)"
   ]
  },
  {
   "cell_type": "code",
   "execution_count": null,
   "id": "b8e06523",
   "metadata": {
    "execution": {
     "iopub.execute_input": "2024-12-11T04:00:20.394326Z",
     "iopub.status.busy": "2024-12-11T04:00:20.393785Z",
     "iopub.status.idle": "2024-12-11T04:00:20.426817Z",
     "shell.execute_reply": "2024-12-11T04:00:20.425619Z",
     "shell.execute_reply.started": "2024-12-11T04:00:20.394273Z"
    },
    "papermill": {
     "duration": null,
     "end_time": null,
     "exception": null,
     "start_time": null,
     "status": "pending"
    },
    "tags": []
   },
   "outputs": [],
   "source": [
    "# Confusion Matrix\n",
    "cm = confusion_matrix(y_test, y_pred)\n",
    "print(\"Confusion Matrix:\\n\", cm)\n",
    "\n",
    "# Performance metrics\n",
    "accuracy = accuracy_score(y_test, y_pred)\n",
    "f1 = f1_score(y_test, y_pred, average='weighted')  # 'weighted' for multi-class\n",
    "precision = precision_score(y_test, y_pred, average='weighted')  # 'weighted' for multi-class\n",
    "recall = recall_score(y_test, y_pred, average='weighted')  # 'weighted' for multi-class\n",
    "mae = mean_absolute_error(y_test, y_pred)\n",
    "mse = mean_squared_error(y_test, y_pred)\n",
    "\n",
    "# Creating a DataFrame for better readability\n",
    "metrics = {\n",
    "    'Metric': ['Accuracy', 'F1 Score', 'Precision', 'Recall', 'Mean Absolute Error', 'Mean Squared Error'],\n",
    "    'Score': [accuracy, f1, precision, recall, mae, mse]\n",
    "}\n",
    "\n",
    "# Create a pandas DataFrame\n",
    "metrics_df = pd.DataFrame(metrics)\n",
    "\n",
    "# Display the results in tabular format\n",
    "print(\"\\nPerformance Metrics (Tabular Format):\")\n",
    "print(metrics_df)"
   ]
  },
  {
   "cell_type": "markdown",
   "id": "3271e581",
   "metadata": {
    "papermill": {
     "duration": null,
     "end_time": null,
     "exception": null,
     "start_time": null,
     "status": "pending"
    },
    "tags": []
   },
   "source": [
    "# **KNeighborsClassifier**"
   ]
  },
  {
   "cell_type": "code",
   "execution_count": null,
   "id": "dab57617",
   "metadata": {
    "execution": {
     "iopub.execute_input": "2024-12-11T04:00:29.191129Z",
     "iopub.status.busy": "2024-12-11T04:00:29.190718Z",
     "iopub.status.idle": "2024-12-11T04:00:29.432171Z",
     "shell.execute_reply": "2024-12-11T04:00:29.430817Z",
     "shell.execute_reply.started": "2024-12-11T04:00:29.191095Z"
    },
    "papermill": {
     "duration": null,
     "end_time": null,
     "exception": null,
     "start_time": null,
     "status": "pending"
    },
    "tags": []
   },
   "outputs": [],
   "source": [
    "# Initialize KNeighborsClassifier\n",
    "knn = KNeighborsClassifier()\n",
    "\n",
    "knn.fit(X_train, y_train)\n",
    "\n",
    "\n",
    "# Evaluate on test data\n",
    "y_pred = knn.predict(X_test)\n",
    "\n",
    "# Accuracy and Classification Report\n",
    "accuracy = accuracy_score(y_test, y_pred)\n",
    "print(f\"KNeighborsClassifier Accuracy: {accuracy:.4f}\")\n",
    "report = classification_report(y_test, y_pred)\n",
    "print(\"Classification Report:\\n\", report)"
   ]
  },
  {
   "cell_type": "code",
   "execution_count": null,
   "id": "faa70866",
   "metadata": {
    "execution": {
     "iopub.execute_input": "2024-12-11T04:00:30.761126Z",
     "iopub.status.busy": "2024-12-11T04:00:30.760672Z",
     "iopub.status.idle": "2024-12-11T04:00:30.786475Z",
     "shell.execute_reply": "2024-12-11T04:00:30.785072Z",
     "shell.execute_reply.started": "2024-12-11T04:00:30.761085Z"
    },
    "papermill": {
     "duration": null,
     "end_time": null,
     "exception": null,
     "start_time": null,
     "status": "pending"
    },
    "tags": []
   },
   "outputs": [],
   "source": [
    "# Confusion Matrix\n",
    "cm = confusion_matrix(y_test, y_pred)\n",
    "print(\"Confusion Matrix:\\n\", cm)\n",
    "\n",
    "# Performance metrics\n",
    "accuracy = accuracy_score(y_test, y_pred)\n",
    "f1 = f1_score(y_test, y_pred, average='weighted')  # 'weighted' for multi-class\n",
    "precision = precision_score(y_test, y_pred, average='weighted')  # 'weighted' for multi-class\n",
    "recall = recall_score(y_test, y_pred, average='weighted')  # 'weighted' for multi-class\n",
    "mae = mean_absolute_error(y_test, y_pred)\n",
    "mse = mean_squared_error(y_test, y_pred)\n",
    "\n",
    "# Creating a DataFrame for better readability\n",
    "metrics = {\n",
    "    'Metric': ['Accuracy', 'F1 Score', 'Precision', 'Recall', 'Mean Absolute Error', 'Mean Squared Error'],\n",
    "    'Score': [accuracy, f1, precision, recall, mae, mse]\n",
    "}\n",
    "\n",
    "# Create a pandas DataFrame\n",
    "metrics_df = pd.DataFrame(metrics)\n",
    "\n",
    "# Display the results in tabular format\n",
    "print(\"\\nPerformance Metrics (Tabular Format):\")\n",
    "print(metrics_df)"
   ]
  },
  {
   "cell_type": "markdown",
   "id": "e2aea07b",
   "metadata": {
    "papermill": {
     "duration": null,
     "end_time": null,
     "exception": null,
     "start_time": null,
     "status": "pending"
    },
    "tags": []
   },
   "source": [
    "# **SVM Classifier**"
   ]
  },
  {
   "cell_type": "code",
   "execution_count": null,
   "id": "8096abaf",
   "metadata": {
    "execution": {
     "iopub.execute_input": "2024-12-11T04:00:38.701576Z",
     "iopub.status.busy": "2024-12-11T04:00:38.701176Z",
     "iopub.status.idle": "2024-12-11T04:00:40.413768Z",
     "shell.execute_reply": "2024-12-11T04:00:40.412531Z",
     "shell.execute_reply.started": "2024-12-11T04:00:38.701542Z"
    },
    "papermill": {
     "duration": null,
     "end_time": null,
     "exception": null,
     "start_time": null,
     "status": "pending"
    },
    "tags": []
   },
   "outputs": [],
   "source": [
    "# Initialize the SVM classifier\n",
    "svm_model = SVC(probability=True, random_state=42)\n",
    "\n",
    "# Train the model\n",
    "svm_model.fit(X_train, y_train)\n",
    "\n",
    "# Predicting\n",
    "y_pred = svm_model.predict(X_test)\n",
    "\n",
    "# Evaluate the model\n",
    "accuracy = accuracy_score(y_test, y_pred)\n",
    "print(f\"Logistic Regression Accuracy: {accuracy:.4f}\")\n",
    "\n",
    "# Generate classification report\n",
    "report = classification_report(y_test, y_pred)\n",
    "print(\"Classification Report:\\n\", report)\n"
   ]
  },
  {
   "cell_type": "code",
   "execution_count": null,
   "id": "314f7e18",
   "metadata": {
    "execution": {
     "iopub.execute_input": "2024-12-11T04:00:40.415938Z",
     "iopub.status.busy": "2024-12-11T04:00:40.415588Z",
     "iopub.status.idle": "2024-12-11T04:00:40.441269Z",
     "shell.execute_reply": "2024-12-11T04:00:40.439760Z",
     "shell.execute_reply.started": "2024-12-11T04:00:40.415905Z"
    },
    "papermill": {
     "duration": null,
     "end_time": null,
     "exception": null,
     "start_time": null,
     "status": "pending"
    },
    "tags": []
   },
   "outputs": [],
   "source": [
    "# Confusion Matrix\n",
    "cm = confusion_matrix(y_test, y_pred)\n",
    "print(\"Confusion Matrix:\\n\", cm)\n",
    "\n",
    "# Performance metrics\n",
    "accuracy = accuracy_score(y_test, y_pred)\n",
    "f1 = f1_score(y_test, y_pred, average='weighted')  # 'weighted' for multi-class\n",
    "precision = precision_score(y_test, y_pred, average='weighted')  # 'weighted' for multi-class\n",
    "recall = recall_score(y_test, y_pred, average='weighted')  # 'weighted' for multi-class\n",
    "mae = mean_absolute_error(y_test, y_pred)\n",
    "mse = mean_squared_error(y_test, y_pred)\n",
    "\n",
    "# Creating a DataFrame for better readability\n",
    "metrics = {\n",
    "    'Metric': ['Accuracy', 'F1 Score', 'Precision', 'Recall', 'Mean Absolute Error', 'Mean Squared Error'],\n",
    "    'Score': [accuracy, f1, precision, recall, mae, mse]\n",
    "}\n",
    "\n",
    "# Create a pandas DataFrame\n",
    "metrics_df = pd.DataFrame(metrics)\n",
    "\n",
    "# Display the results in tabular format\n",
    "print(\"\\nPerformance Metrics (Tabular Format):\")\n",
    "print(metrics_df)\n"
   ]
  },
  {
   "cell_type": "markdown",
   "id": "26ba34ae",
   "metadata": {
    "papermill": {
     "duration": null,
     "end_time": null,
     "exception": null,
     "start_time": null,
     "status": "pending"
    },
    "tags": []
   },
   "source": [
    "# **XGBClassifier**"
   ]
  },
  {
   "cell_type": "code",
   "execution_count": null,
   "id": "7bf51dc3",
   "metadata": {
    "execution": {
     "iopub.execute_input": "2024-12-11T04:00:56.410274Z",
     "iopub.status.busy": "2024-12-11T04:00:56.409853Z",
     "iopub.status.idle": "2024-12-11T04:00:56.834121Z",
     "shell.execute_reply": "2024-12-11T04:00:56.833207Z",
     "shell.execute_reply.started": "2024-12-11T04:00:56.410238Z"
    },
    "papermill": {
     "duration": null,
     "end_time": null,
     "exception": null,
     "start_time": null,
     "status": "pending"
    },
    "tags": []
   },
   "outputs": [],
   "source": [
    "# Initialize the XGBoost classifier\n",
    "xgb_model = XGBClassifier(random_state=42)\n",
    "\n",
    "xgb_model.fit(X_train, y_train)\n",
    "\n",
    "# Evaluate on test data\n",
    "y_pred = xgb_model.predict(X_test)\n",
    "\n",
    "# Accuracy\n",
    "accuracy = accuracy_score(y_test, y_pred)\n",
    "print(f\"XGBoosting Accuracy: {accuracy:.4f}\")\n",
    "\n",
    "# Classification report (includes precision, recall, f1-score, and support)\n",
    "report = classification_report(y_test, y_pred)\n",
    "print(\"Classification Report:\\n\", report)"
   ]
  },
  {
   "cell_type": "code",
   "execution_count": null,
   "id": "5d4d6bab",
   "metadata": {
    "execution": {
     "iopub.execute_input": "2024-12-11T04:00:57.995420Z",
     "iopub.status.busy": "2024-12-11T04:00:57.994989Z",
     "iopub.status.idle": "2024-12-11T04:00:58.021348Z",
     "shell.execute_reply": "2024-12-11T04:00:58.020199Z",
     "shell.execute_reply.started": "2024-12-11T04:00:57.995386Z"
    },
    "papermill": {
     "duration": null,
     "end_time": null,
     "exception": null,
     "start_time": null,
     "status": "pending"
    },
    "tags": []
   },
   "outputs": [],
   "source": [
    "# Confusion Matrix\n",
    "cm = confusion_matrix(y_test, y_pred)\n",
    "print(\"Confusion Matrix:\\n\", cm)\n",
    "\n",
    "# Performance metrics\n",
    "accuracy = accuracy_score(y_test, y_pred)\n",
    "f1 = f1_score(y_test, y_pred, average='weighted')  # 'weighted' for multi-class\n",
    "precision = precision_score(y_test, y_pred, average='weighted')  # 'weighted' for multi-class\n",
    "recall = recall_score(y_test, y_pred, average='weighted')  # 'weighted' for multi-class\n",
    "mae = mean_absolute_error(y_test, y_pred)\n",
    "mse = mean_squared_error(y_test, y_pred)\n",
    "\n",
    "# Creating a DataFrame for better readability\n",
    "metrics = {\n",
    "    'Metric': ['Accuracy', 'F1 Score', 'Precision', 'Recall', 'Mean Absolute Error', 'Mean Squared Error'],\n",
    "    'Score': [accuracy, f1, precision, recall, mae, mse]\n",
    "}\n",
    "\n",
    "# Create a pandas DataFrame\n",
    "metrics_df = pd.DataFrame(metrics)\n",
    "\n",
    "# Display the results in tabular format\n",
    "print(\"\\nPerformance Metrics (Tabular Format):\")\n",
    "print(metrics_df)\n"
   ]
  },
  {
   "cell_type": "markdown",
   "id": "09881165",
   "metadata": {
    "papermill": {
     "duration": null,
     "end_time": null,
     "exception": null,
     "start_time": null,
     "status": "pending"
    },
    "tags": []
   },
   "source": [
    "<div style=\"background-color:#00008B; padding: 20px; border-radius: 255px; font-weight: bold; border: 3px solid #00008B; text-align: center;\">\n",
    "    <h1 style=\"font-size: 30px; color: white; margin: 0;\">8 | Smart Decision Making Model</h1>\n",
    "</div>"
   ]
  },
  {
   "cell_type": "code",
   "execution_count": null,
   "id": "c3d9ea4c",
   "metadata": {
    "execution": {
     "iopub.execute_input": "2024-12-11T04:03:07.818638Z",
     "iopub.status.busy": "2024-12-11T04:03:07.818218Z",
     "iopub.status.idle": "2024-12-11T04:03:10.525972Z",
     "shell.execute_reply": "2024-12-11T04:03:10.524250Z",
     "shell.execute_reply.started": "2024-12-11T04:03:07.818604Z"
    },
    "papermill": {
     "duration": null,
     "end_time": null,
     "exception": null,
     "start_time": null,
     "status": "pending"
    },
    "tags": []
   },
   "outputs": [],
   "source": [
    "# Create the Voting Classifier\n",
    "final_model = VotingClassifier(\n",
    "    estimators=[('dt', dt), ('rf', rf), ('Knn', knn),('svm_model', svm_model), ('xgb_model', xgb_model)],\n",
    "    voting='soft',weights =[2,3,2,2,3]\n",
    ")\n",
    "\n",
    "# Train the model\n",
    "final_model.fit(X_train, y_train)"
   ]
  },
  {
   "cell_type": "code",
   "execution_count": null,
   "id": "d78e276d",
   "metadata": {
    "execution": {
     "iopub.execute_input": "2024-12-11T04:03:12.504098Z",
     "iopub.status.busy": "2024-12-11T04:03:12.503683Z",
     "iopub.status.idle": "2024-12-11T04:03:12.854908Z",
     "shell.execute_reply": "2024-12-11T04:03:12.853608Z",
     "shell.execute_reply.started": "2024-12-11T04:03:12.504052Z"
    },
    "papermill": {
     "duration": null,
     "end_time": null,
     "exception": null,
     "start_time": null,
     "status": "pending"
    },
    "tags": []
   },
   "outputs": [],
   "source": [
    "# Make predictions\n",
    "pred_final = final_model.predict(X_test)  # Use pred_final instead of y_pred\n",
    "\n",
    "# Calculate accuracy\n",
    "accuracy = accuracy_score(y_test, pred_final)\n",
    "print(f\"VotingClassifier Accuracy: {accuracy:.4f}\")\n",
    "\n",
    "# Classification report\n",
    "report = classification_report(y_test, pred_final)\n",
    "print(\"Classification Report:\\n\", report)\n",
    "\n",
    "# Confusion Matrix\n",
    "cm = confusion_matrix(y_test, pred_final)\n",
    "print(\"Confusion Matrix:\\n\", cm)\n",
    "\n",
    "# Performance metrics\n",
    "f1 = f1_score(y_test, pred_final, average='weighted')  # Use 'weighted' for multiclass\n",
    "precision = precision_score(y_test, pred_final, average='weighted')  # Use 'weighted' for multiclass\n",
    "recall = recall_score(y_test, pred_final, average='weighted')  # Use 'weighted' for multiclass\n",
    "mae = mean_absolute_error(y_test, pred_final)\n",
    "mse = mean_squared_error(y_test, pred_final)\n",
    "\n",
    "print(f\"VotingClassifier F1 Score: {f1:.4f}\")\n",
    "print(f\"VotingClassifier Precision Score: {precision:.4f}\")\n",
    "print(f\"VotingClassifier Recall Score: {recall:.4f}\")\n",
    "print(f\"VotingClassifier Mean Absolute Error: {mae:.4f}\")\n",
    "print(f\"VotingClassifier Mean Squared Error: {mse:.4f}\")"
   ]
  },
  {
   "cell_type": "markdown",
   "id": "ea762752",
   "metadata": {
    "papermill": {
     "duration": null,
     "end_time": null,
     "exception": null,
     "start_time": null,
     "status": "pending"
    },
    "tags": []
   },
   "source": [
    "<div style=\"background-color:#00008B; padding: 20px; border-radius: 255px; font-weight: bold; border: 3px solid #00008B; text-align: center;\">\n",
    "    <h1 style=\"font-size: 30px; color: white; margin: 0;\">9 | Recommendation System</h1>\n",
    "</div>"
   ]
  },
  {
   "cell_type": "code",
   "execution_count": null,
   "id": "d1556b3c",
   "metadata": {
    "execution": {
     "iopub.execute_input": "2024-12-11T04:27:50.785113Z",
     "iopub.status.busy": "2024-12-11T04:27:50.784577Z",
     "iopub.status.idle": "2024-12-11T04:27:50.825786Z",
     "shell.execute_reply": "2024-12-11T04:27:50.824932Z",
     "shell.execute_reply.started": "2024-12-11T04:27:50.785075Z"
    },
    "papermill": {
     "duration": null,
     "end_time": null,
     "exception": null,
     "start_time": null,
     "status": "pending"
    },
    "tags": []
   },
   "outputs": [],
   "source": [
    "# New data (ensure it matches expected number of elements, adjust accordingly)\n",
    "newdata = [\n",
    "    17, 1, 2, 4, 3, 4, 1, 1, 1, 2, 1, 8, 1, 3, 90, 1, 90, 85, 70, 88, 80, 428, 85.6\n",
    "]\n",
    "\n",
    "# Group mapping (for readability)\n",
    "group_mapping = {2: \"Science\", 1: \"Commerce\", 0: \"Arts\"}\n",
    "\n",
    "def recommend(data):\n",
    "    import pandas as pd  # Ensure pandas is imported\n",
    "\n",
    "    # Create DataFrame from the input list\n",
    "    pre_data = pd.DataFrame({\n",
    "        'age': [data[0]],\n",
    "        'gender': [data[1]],\n",
    "        'location': [data[2]],\n",
    "        'family_size': [data[3]],\n",
    "        'mother_education': [data[4]],\n",
    "        'father_education': [data[5]],\n",
    "        'mother_job': [data[6]],\n",
    "        'father_job': [data[7]],\n",
    "        'guardian': [data[8]],\n",
    "        'parental_involvement': [data[9]],\n",
    "        'internet_access': [data[10]],\n",
    "        'studytime': [data[11]],\n",
    "        'tutoring': [data[12]],\n",
    "        'school_type': [data[13]],\n",
    "        'attendance': [data[14]],\n",
    "        'extra_curricular_activities': [data[15]],\n",
    "        'english': [data[16]],\n",
    "        'math': [data[17]],\n",
    "        'science': [data[18]],\n",
    "        'social_science': [data[19]],\n",
    "        'art_culture': [data[20]],\n",
    "        'total_score': [data[21]],\n",
    "        'average_score': [data[22]],\n",
    "    })\n",
    "\n",
    "    # Predict probabilities\n",
    "    probabilities = final_model.predict_proba(pre_data)[0]\n",
    "\n",
    "    # Find the group with the highest probability\n",
    "    predicted_group_index = probabilities.argmax()\n",
    "    predicted_group_label = group_mapping[predicted_group_index]\n",
    "\n",
    "    # Create a dictionary with the groups and their respective probabilities\n",
    "    probability_dict = {\n",
    "        group_mapping[key]: round(probabilities[key] * 100, 2) for key in group_mapping\n",
    "    }\n",
    "\n",
    "    # Sort the dictionary by probability in descending order\n",
    "    sorted_probabilities = {k: v for k, v in sorted(probability_dict.items(), key=lambda item: item[1], reverse=True)}\n",
    "\n",
    "    return predicted_group_label, sorted_probabilities\n",
    "\n",
    "# Call the function\n",
    "predicted_label, probabilities = recommend(newdata)\n",
    "\n",
    "# Display results\n",
    "print(\"Predicted Group:\", predicted_label)\n",
    "print(\"Prediction Probabilities:\")\n",
    "for group, probability in probabilities.items():\n",
    "    print(f\"{group}: {probability}%\")\n"
   ]
  },
  {
   "cell_type": "code",
   "execution_count": null,
   "id": "ecf629aa",
   "metadata": {
    "execution": {
     "iopub.execute_input": "2024-12-11T04:28:20.700077Z",
     "iopub.status.busy": "2024-12-11T04:28:20.699548Z",
     "iopub.status.idle": "2024-12-11T04:28:20.742255Z",
     "shell.execute_reply": "2024-12-11T04:28:20.741337Z",
     "shell.execute_reply.started": "2024-12-11T04:28:20.700018Z"
    },
    "papermill": {
     "duration": null,
     "end_time": null,
     "exception": null,
     "start_time": null,
     "status": "pending"
    },
    "tags": []
   },
   "outputs": [],
   "source": [
    "# New data (ensure it matches expected number of elements, adjust accordingly)\n",
    "newdata = [\n",
    "    17, 1, 2, 4, 2, 2, 1, 1, 1, 2, 1, 4, 1, 2, 50, 1, 55, 50, 45, 60, 55, 250, 50.0\n",
    "]\n",
    "\n",
    "\n",
    "# Group mapping (for readability)\n",
    "group_mapping = {2: \"Science\", 1: \"Commerce\", 0: \"Arts\"}\n",
    "\n",
    "def recommend(data):\n",
    "    import pandas as pd  # Ensure pandas is imported\n",
    "\n",
    "    # Create DataFrame from the input list\n",
    "    pre_data = pd.DataFrame({\n",
    "        'age': [data[0]],\n",
    "        'gender': [data[1]],\n",
    "        'location': [data[2]],\n",
    "        'family_size': [data[3]],\n",
    "        'mother_education': [data[4]],\n",
    "        'father_education': [data[5]],\n",
    "        'mother_job': [data[6]],\n",
    "        'father_job': [data[7]],\n",
    "        'guardian': [data[8]],\n",
    "        'parental_involvement': [data[9]],\n",
    "        'internet_access': [data[10]],\n",
    "        'studytime': [data[11]],\n",
    "        'tutoring': [data[12]],\n",
    "        'school_type': [data[13]],\n",
    "        'attendance': [data[14]],\n",
    "        'extra_curricular_activities': [data[15]],\n",
    "        'english': [data[16]],\n",
    "        'math': [data[17]],\n",
    "        'science': [data[18]],\n",
    "        'social_science': [data[19]],\n",
    "        'art_culture': [data[20]],\n",
    "        'total_score': [data[21]],\n",
    "        'average_score': [data[22]],\n",
    "    })\n",
    "\n",
    "    # Predict probabilities\n",
    "    probabilities = final_model.predict_proba(pre_data)[0]\n",
    "\n",
    "    # Find the group with the highest probability\n",
    "    predicted_group_index = probabilities.argmax()\n",
    "    predicted_group_label = group_mapping[predicted_group_index]\n",
    "\n",
    "    # Create a dictionary with the groups and their respective probabilities\n",
    "    probability_dict = {\n",
    "        group_mapping[key]: round(probabilities[key] * 100, 2) for key in group_mapping\n",
    "    }\n",
    "\n",
    "    # Sort the dictionary by probability in descending order\n",
    "    sorted_probabilities = {k: v for k, v in sorted(probability_dict.items(), key=lambda item: item[1], reverse=True)}\n",
    "\n",
    "    return predicted_group_label, sorted_probabilities\n",
    "\n",
    "# Call the function\n",
    "predicted_label, probabilities = recommend(newdata)\n",
    "\n",
    "# Display results\n",
    "print(\"Predicted Group:\", predicted_label)\n",
    "print(\"Prediction Probabilities:\")\n",
    "for group, probability in probabilities.items():\n",
    "    print(f\"{group}: {probability}%\")\n"
   ]
  },
  {
   "cell_type": "code",
   "execution_count": null,
   "id": "21300bd6",
   "metadata": {
    "execution": {
     "iopub.execute_input": "2024-12-11T04:29:02.380447Z",
     "iopub.status.busy": "2024-12-11T04:29:02.380013Z",
     "iopub.status.idle": "2024-12-11T04:29:02.514360Z",
     "shell.execute_reply": "2024-12-11T04:29:02.513103Z",
     "shell.execute_reply.started": "2024-12-11T04:29:02.380412Z"
    },
    "papermill": {
     "duration": null,
     "end_time": null,
     "exception": null,
     "start_time": null,
     "status": "pending"
    },
    "tags": []
   },
   "outputs": [],
   "source": [
    "# New data (ensure it matches expected number of elements, adjust accordingly)\n",
    "newdata = [\n",
    "    17, 1, 2, 4, 3, 3, 1, 1, 1, 2, 1, 7, 1, 3, 80, 1, 85, 80, 75, 85, 80, 390, 78.0\n",
    "]\n",
    "\n",
    "\n",
    "\n",
    "# Group mapping (for readability)\n",
    "group_mapping = {2: \"Science\", 1: \"Commerce\", 0: \"Arts\"}\n",
    "\n",
    "def recommend(data):\n",
    "    import pandas as pd  # Ensure pandas is imported\n",
    "\n",
    "    # Create DataFrame from the input list\n",
    "    pre_data = pd.DataFrame({\n",
    "        'age': [data[0]],\n",
    "        'gender': [data[1]],\n",
    "        'location': [data[2]],\n",
    "        'family_size': [data[3]],\n",
    "        'mother_education': [data[4]],\n",
    "        'father_education': [data[5]],\n",
    "        'mother_job': [data[6]],\n",
    "        'father_job': [data[7]],\n",
    "        'guardian': [data[8]],\n",
    "        'parental_involvement': [data[9]],\n",
    "        'internet_access': [data[10]],\n",
    "        'studytime': [data[11]],\n",
    "        'tutoring': [data[12]],\n",
    "        'school_type': [data[13]],\n",
    "        'attendance': [data[14]],\n",
    "        'extra_curricular_activities': [data[15]],\n",
    "        'english': [data[16]],\n",
    "        'math': [data[17]],\n",
    "        'science': [data[18]],\n",
    "        'social_science': [data[19]],\n",
    "        'art_culture': [data[20]],\n",
    "        'total_score': [data[21]],\n",
    "        'average_score': [data[22]],\n",
    "    })\n",
    "\n",
    "    # Predict probabilities\n",
    "    probabilities = final_model.predict_proba(pre_data)[0]\n",
    "\n",
    "    # Find the group with the highest probability\n",
    "    predicted_group_index = probabilities.argmax()\n",
    "    predicted_group_label = group_mapping[predicted_group_index]\n",
    "\n",
    "    # Create a dictionary with the groups and their respective probabilities\n",
    "    probability_dict = {\n",
    "        group_mapping[key]: round(probabilities[key] * 100, 2) for key in group_mapping\n",
    "    }\n",
    "\n",
    "    # Sort the dictionary by probability in descending order\n",
    "    sorted_probabilities = {k: v for k, v in sorted(probability_dict.items(), key=lambda item: item[1], reverse=True)}\n",
    "\n",
    "    return predicted_group_label, sorted_probabilities\n",
    "\n",
    "# Call the function\n",
    "predicted_label, probabilities = recommend(newdata)\n",
    "\n",
    "# Display results\n",
    "print(\"Predicted Group:\", predicted_label)\n",
    "print(\"Prediction Probabilities:\")\n",
    "for group, probability in probabilities.items():\n",
    "    print(f\"{group}: {probability}%\")\n"
   ]
  },
  {
   "cell_type": "markdown",
   "id": "685ae1f1",
   "metadata": {
    "papermill": {
     "duration": null,
     "end_time": null,
     "exception": null,
     "start_time": null,
     "status": "pending"
    },
    "tags": []
   },
   "source": [
    "<div style=\"background-color:#00008B; padding: 20px; border-radius: 255px; font-weight: bold; border: 3px solid #00008B; text-align: center;\">\n",
    "    <h1 style=\"font-size: 30px; color: white; margin: 0;\">10 | Comparison Between Models</h1>\n",
    "</div>"
   ]
  },
  {
   "cell_type": "code",
   "execution_count": null,
   "id": "98b77624",
   "metadata": {
    "execution": {
     "iopub.execute_input": "2024-12-11T04:16:37.006247Z",
     "iopub.status.busy": "2024-12-11T04:16:37.005752Z",
     "iopub.status.idle": "2024-12-11T04:16:42.720224Z",
     "shell.execute_reply": "2024-12-11T04:16:42.718864Z",
     "shell.execute_reply.started": "2024-12-11T04:16:37.006207Z"
    },
    "papermill": {
     "duration": null,
     "end_time": null,
     "exception": null,
     "start_time": null,
     "status": "pending"
    },
    "tags": []
   },
   "outputs": [],
   "source": [
    "# Train individual models and Voting Classifier\n",
    "models = [dt, rf, knn, svm_model, xgb_model, final_model]\n",
    "model_names = ['Decision Tree', 'Random Forest', 'K-Nearest Neighbors', 'SVM', 'XGBoost', 'Voting Classifier']\n",
    "\n",
    "# Store results\n",
    "results = {\n",
    "    'Model': [],\n",
    "    'Accuracy': [],\n",
    "    'Precision': [],\n",
    "    'Recall': [],\n",
    "    'F1-Score': []\n",
    "}\n",
    "\n",
    "for model, name in zip(models, model_names):\n",
    "    # Fit the model\n",
    "    model.fit(X_train, y_train)\n",
    "    \n",
    "    # Make predictions\n",
    "    y_pred = model.predict(X_test)\n",
    "    \n",
    "    # Calculate metrics\n",
    "    accuracy = accuracy_score(y_test, y_pred)\n",
    "    precision = precision_score(y_test, y_pred, average='weighted')\n",
    "    recall = recall_score(y_test, y_pred, average='weighted')\n",
    "    f1 = f1_score(y_test, y_pred, average='weighted')\n",
    "    \n",
    "    # Store results\n",
    "    results['Model'].append(name)\n",
    "    results['Accuracy'].append(accuracy)\n",
    "    results['Precision'].append(precision)\n",
    "    results['Recall'].append(recall)\n",
    "    results['F1-Score'].append(f1)\n",
    "\n",
    "# Create a DataFrame for comparison\n",
    "comparison_df = pd.DataFrame(results)\n",
    "\n",
    "# Display the comparison table\n",
    "print(comparison_df)"
   ]
  },
  {
   "cell_type": "markdown",
   "id": "a3980efd",
   "metadata": {
    "papermill": {
     "duration": null,
     "end_time": null,
     "exception": null,
     "start_time": null,
     "status": "pending"
    },
    "tags": []
   },
   "source": [
    "# Smart Decision Maker by Monitoring Progress of Student's Study\r\n",
    "\r\n",
    "| Model               | Accuracy | Precision | Recall | F1-Score |\r\n",
    "|---------------------|----------|-----------|--------|----------|\r\n",
    "| Decision Tree       | 0.9674   | 0.9675    | 0.9674 | 0.9675   |\r\n",
    "| Random Forest       | 0.9798   | 0.9810    | 0.9798 | 0.9799   |\r\n",
    "| K-Nearest Neighbors | 0.9697   | 0.9697    | 0.9694 | 0.96031   |\r\n",
    "| SVM                 | 0.9585   | 0.9595    | 0.9585 | 0.9587   |\r\n",
    "| XGBoost             | 0.9810   | 0.9813    | 0.9810 | 0.9810   |\r\n",
    "| Voting Classifier26 | 0.981030 | 0.9814 26 | 0.9827 | 0.9810   |\r\n",
    "\r\n",
    "---\r\n",
    "\r\n",
    "> **Smart Decision Maker by Monitoring Progress of Student's Study**\r\n"
   ]
  },
  {
   "cell_type": "markdown",
   "id": "6029e639",
   "metadata": {
    "papermill": {
     "duration": null,
     "end_time": null,
     "exception": null,
     "start_time": null,
     "status": "pending"
    },
    "tags": []
   },
   "source": [
    "<div style=\"background-color:#FF6347; padding: 20px; border-radius: 255px; font-weight: bold; border: 3px solid #FF6347; text-align: center;\">\r\n",
    "    <h1 style=\"font-size: 30px; color: white; margin: 0;\">You're welcome! Good luck with everything!</h1>\r\n",
    "</di>\r\n"
   ]
  },
  {
   "cell_type": "code",
   "execution_count": null,
   "id": "f1dc5430",
   "metadata": {
    "papermill": {
     "duration": null,
     "end_time": null,
     "exception": null,
     "start_time": null,
     "status": "pending"
    },
    "tags": []
   },
   "outputs": [],
   "source": []
  }
 ],
 "metadata": {
  "kaggle": {
   "accelerator": "none",
   "dataSources": [
    {
     "datasetId": 6271461,
     "sourceId": 10157262,
     "sourceType": "datasetVersion"
    }
   ],
   "dockerImageVersionId": 30804,
   "isGpuEnabled": false,
   "isInternetEnabled": true,
   "language": "python",
   "sourceType": "notebook"
  },
  "kernelspec": {
   "display_name": "Python 3",
   "language": "python",
   "name": "python3"
  },
  "language_info": {
   "codemirror_mode": {
    "name": "ipython",
    "version": 3
   },
   "file_extension": ".py",
   "mimetype": "text/x-python",
   "name": "python",
   "nbconvert_exporter": "python",
   "pygments_lexer": "ipython3",
   "version": "3.10.14"
  },
  "papermill": {
   "default_parameters": {},
   "duration": 12.272083,
   "end_time": "2024-12-11T12:03:25.437917",
   "environment_variables": {},
   "exception": true,
   "input_path": "__notebook__.ipynb",
   "output_path": "__notebook__.ipynb",
   "parameters": {},
   "start_time": "2024-12-11T12:03:13.165834",
   "version": "2.6.0"
  }
 },
 "nbformat": 4,
 "nbformat_minor": 5
}
